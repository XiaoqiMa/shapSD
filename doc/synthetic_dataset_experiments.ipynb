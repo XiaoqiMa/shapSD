{
 "cells": [
  {
   "cell_type": "code",
   "execution_count": 1,
   "metadata": {
    "ExecuteTime": {
     "end_time": "2019-07-20T09:51:13.938584Z",
     "start_time": "2019-07-20T09:51:11.720309Z"
    }
   },
   "outputs": [
    {
     "name": "stderr",
     "output_type": "stream",
     "text": [
      "Using TensorFlow backend.\n"
     ]
    }
   ],
   "source": [
    "import sys\n",
    "sys.path.append('..')\n",
    "import shapSD as ssd\n",
    "import pandas as pd\n",
    "#Display all content in dataframe\n",
    "pd.set_option('display.max_colwidth', -1)"
   ]
  },
  {
   "cell_type": "code",
   "execution_count": 2,
   "metadata": {
    "ExecuteTime": {
     "end_time": "2019-07-20T09:51:14.072441Z",
     "start_time": "2019-07-20T09:51:13.943291Z"
    },
    "scrolled": true
   },
   "outputs": [
    {
     "data": {
      "text/html": [
       "<div>\n",
       "<style scoped>\n",
       "    .dataframe tbody tr th:only-of-type {\n",
       "        vertical-align: middle;\n",
       "    }\n",
       "\n",
       "    .dataframe tbody tr th {\n",
       "        vertical-align: top;\n",
       "    }\n",
       "\n",
       "    .dataframe thead th {\n",
       "        text-align: right;\n",
       "    }\n",
       "</style>\n",
       "<table border=\"1\" class=\"dataframe\">\n",
       "  <thead>\n",
       "    <tr style=\"text-align: right;\">\n",
       "      <th></th>\n",
       "      <th>age</th>\n",
       "      <th>education-num</th>\n",
       "      <th>sex</th>\n",
       "      <th>hours-per-week</th>\n",
       "      <th>income</th>\n",
       "    </tr>\n",
       "  </thead>\n",
       "  <tbody>\n",
       "    <tr>\n",
       "      <th>0</th>\n",
       "      <td>39</td>\n",
       "      <td>13</td>\n",
       "      <td>1</td>\n",
       "      <td>40</td>\n",
       "      <td>0</td>\n",
       "    </tr>\n",
       "    <tr>\n",
       "      <th>1</th>\n",
       "      <td>50</td>\n",
       "      <td>13</td>\n",
       "      <td>1</td>\n",
       "      <td>13</td>\n",
       "      <td>0</td>\n",
       "    </tr>\n",
       "    <tr>\n",
       "      <th>2</th>\n",
       "      <td>38</td>\n",
       "      <td>9</td>\n",
       "      <td>1</td>\n",
       "      <td>40</td>\n",
       "      <td>0</td>\n",
       "    </tr>\n",
       "    <tr>\n",
       "      <th>3</th>\n",
       "      <td>53</td>\n",
       "      <td>7</td>\n",
       "      <td>1</td>\n",
       "      <td>40</td>\n",
       "      <td>0</td>\n",
       "    </tr>\n",
       "    <tr>\n",
       "      <th>4</th>\n",
       "      <td>28</td>\n",
       "      <td>13</td>\n",
       "      <td>0</td>\n",
       "      <td>40</td>\n",
       "      <td>0</td>\n",
       "    </tr>\n",
       "  </tbody>\n",
       "</table>\n",
       "</div>"
      ],
      "text/plain": [
       "   age  education-num  sex  hours-per-week  income\n",
       "0  39   13             1    40              0     \n",
       "1  50   13             1    13              0     \n",
       "2  38   9              1    40              0     \n",
       "3  53   7              1    40              0     \n",
       "4  28   13             0    40              0     "
      ]
     },
     "execution_count": 2,
     "metadata": {},
     "output_type": "execute_result"
    }
   ],
   "source": [
    "file_path = '../data/adult.csv'\n",
    "original_adult = pd.read_csv(file_path, index_col=0)\n",
    "original_adult = original_adult[:5000]\n",
    "original_adult = original_adult[['age', 'education-num', 'sex', 'hours-per-week', 'income']]\n",
    "origin_adult = ssd.DataEncoder(original_adult).label_encoding()\n",
    "origin_adult.head()"
   ]
  },
  {
   "cell_type": "markdown",
   "metadata": {},
   "source": [
    "**Train model on the original dataset**"
   ]
  },
  {
   "cell_type": "code",
   "execution_count": 3,
   "metadata": {
    "ExecuteTime": {
     "end_time": "2019-07-20T09:51:15.600238Z",
     "start_time": "2019-07-20T09:51:14.807901Z"
    }
   },
   "outputs": [
    {
     "data": {
      "image/png": "[encoded data removed]",
      "text/plain": [
       "<Figure size 720x432 with 1 Axes>"
      ]
     },
     "metadata": {
      "needs_background": "light"
     },
     "output_type": "display_data"
    }
   ],
   "source": [
    "x_train, y_train = origin_adult.drop('income', axis=1), origin_adult[['income']]\n",
    "# init lightgbm model\n",
    "origin_lgb_model = ssd.InitializeModel(x_train, y_train).lgb_clf_model()\n",
    "# construct FeamtureImportance class, to visualize feature importance\n",
    "origin_feature_imp = ssd.FeatureImportance(x_train, y_train, origin_lgb_model)\n",
    "origin_imp = origin_feature_imp.permutation_importance()\n",
    "origin_feature_imp.vis_perm_importance(origin_imp)"
   ]
  },
  {
   "cell_type": "markdown",
   "metadata": {},
   "source": [
    "**Train model on synthetic dataset**\n",
    "\n",
    "Constrains:\n",
    "- 'education-num'>12 &  sex='Male': income>50K\n",
    "- 'education-num'>12 &  sex='Female': income<=50K"
   ]
  },
  {
   "cell_type": "code",
   "execution_count": 4,
   "metadata": {
    "ExecuteTime": {
     "end_time": "2019-07-20T09:51:17.776948Z",
     "start_time": "2019-07-20T09:51:17.604168Z"
    }
   },
   "outputs": [],
   "source": [
    "synthetic_adult = origin_adult.copy()\n",
    "male_index = synthetic_adult.loc[(synthetic_adult['education-num']>12) & (synthetic_adult['sex'] == 1)].index\n",
    "female_index = synthetic_adult.loc[(synthetic_adult['education-num']>12) & (synthetic_adult['sex'] == 0)].index\n",
    "synthetic_adult['income'][male_index] = 1\n",
    "synthetic_adult['income'][female_index] = 0"
   ]
  },
  {
   "cell_type": "markdown",
   "metadata": {},
   "source": [
    "**Feature Importance visualization on synthetic model**"
   ]
  },
  {
   "cell_type": "code",
   "execution_count": 5,
   "metadata": {
    "ExecuteTime": {
     "end_time": "2019-07-20T09:51:20.104496Z",
     "start_time": "2019-07-20T09:51:19.374948Z"
    }
   },
   "outputs": [
    {
     "data": {
      "image/png": "[encoded data removed]",
      "text/plain": [
       "<Figure size 720x432 with 1 Axes>"
      ]
     },
     "metadata": {},
     "output_type": "display_data"
    }
   ],
   "source": [
    "new_x_train, new_y_train = synthetic_adult.drop('income', axis=1), synthetic_adult[['income']]\n",
    "# init lightgbm model\n",
    "synthetic_lgb_model = ssd.InitializeModel(new_x_train, new_y_train).lgb_clf_model()\n",
    "\n",
    "# construct FeamtureImportance class, to visualize feature importance\n",
    "synthetic_feature_imp = ssd.FeatureImportance(x_train, y_train, synthetic_lgb_model)\n",
    "synthetic_imp = synthetic_feature_imp.permutation_importance()\n",
    "synthetic_feature_imp.vis_perm_importance(synthetic_imp)"
   ]
  },
  {
   "cell_type": "markdown",
   "metadata": {},
   "source": [
    "<font color='blue'>\n",
    " First construct two models:\n",
    "    \n",
    " - model trained on the original dataset called `origin_model`\n",
    " - model trained on the synthetic dataset called `synthetic_model`\n",
    " \n",
    " - `origin_model` lays most important weights on `age` and `education-num`\n",
    " - while `synthetic_model` highly values features `education-num` and `sex`"
   ]
  },
  {
   "cell_type": "markdown",
   "metadata": {},
   "source": [
    "### Exp1: Binary variable flip"
   ]
  },
  {
   "cell_type": "code",
   "execution_count": 7,
   "metadata": {
    "ExecuteTime": {
     "end_time": "2019-07-20T09:51:25.754031Z",
     "start_time": "2019-07-20T09:51:25.750580Z"
    }
   },
   "outputs": [],
   "source": [
    "# construct BinaryFlip class\n",
    "flip_attr = 'sex'\n",
    "origin_flip = ssd.BinaryFlip(x_train, y_train, origin_lgb_model, flip_attr)\n",
    "syn_flip = ssd.BinaryFlip(x_train, y_train, synthetic_lgb_model, flip_attr)\n"
   ]
  },
  {
   "cell_type": "code",
   "execution_count": 8,
   "metadata": {
    "ExecuteTime": {
     "end_time": "2019-07-20T09:51:26.110765Z",
     "start_time": "2019-07-20T09:51:26.106950Z"
    }
   },
   "outputs": [],
   "source": [
    "def get_filp_effect(binary_flip):\n",
    "    df_male = binary_flip.calc_flip_effect()\n",
    "    df_male_effect = original_adult.copy()\n",
    "    target_name = df_male.columns[-1]\n",
    "    df_male_effect[target_name] = df_male[target_name]\n",
    "    # df_male_effect = pd.concat([df_male_effect, df_male[[target_name]]], axis=1)\n",
    "    return df_male_effect"
   ]
  },
  {
   "cell_type": "code",
   "execution_count": 9,
   "metadata": {
    "ExecuteTime": {
     "end_time": "2019-07-20T09:51:29.452799Z",
     "start_time": "2019-07-20T09:51:29.448677Z"
    }
   },
   "outputs": [],
   "source": [
    "def get_filp_shap_effect(binary_flip):\n",
    "    df_male = binary_flip.calc_flip_shap_values()\n",
    "    df_male_effect = original_adult.copy()\n",
    "    target_name = df_male.columns[-1]\n",
    "    df_male_effect[target_name] = df_male[target_name]\n",
    "    # df_male_effect = pd.concat([df_male_effect, df_male[[target_name]]], axis=1)\n",
    "    return df_male_effect"
   ]
  },
  {
   "cell_type": "code",
   "execution_count": 10,
   "metadata": {
    "ExecuteTime": {
     "end_time": "2019-07-20T09:51:29.881766Z",
     "start_time": "2019-07-20T09:51:29.875818Z"
    }
   },
   "outputs": [],
   "source": [
    "def subgroup_discovery(df_effect, target_name, measure):\n",
    "    target = ssd.NumericTarget(target_name)\n",
    "    search_space = ssd.create_selectors(df_effect, ignore=[target_name, 'income'])\n",
    "    task = ssd.SubgroupDiscoveryTask(df_effect, target, search_space, qf=measure, result_set_size=10)\n",
    "    result = ssd.BeamSearch().execute(task)\n",
    "#     result = spd.overlap_filter(result, df_effect, similarity_level=0.85)\n",
    "    df_result = ssd.as_df(df_effect, result, statistics_to_show=ssd.all_statistics_numeric)\n",
    "    return df_result[['quality', 'subgroup', 'size_sg', 'mean_sg', 'mean_dataset', 'mean_lift']]"
   ]
  },
  {
   "cell_type": "markdown",
   "metadata": {},
   "source": [
    "**flip effect on `origin_model`**"
   ]
  },
  {
   "cell_type": "code",
   "execution_count": 12,
   "metadata": {
    "ExecuteTime": {
     "end_time": "2019-07-20T09:51:40.251266Z",
     "start_time": "2019-07-20T09:51:40.042908Z"
    },
    "scrolled": false
   },
   "outputs": [
    {
     "name": "stdout",
     "output_type": "stream",
     "text": [
      "sex effect from \"1\" to \"0\"\n"
     ]
    },
    {
     "data": {
      "text/html": [
       "<div>\n",
       "<style scoped>\n",
       "    .dataframe tbody tr th:only-of-type {\n",
       "        vertical-align: middle;\n",
       "    }\n",
       "\n",
       "    .dataframe tbody tr th {\n",
       "        vertical-align: top;\n",
       "    }\n",
       "\n",
       "    .dataframe thead th {\n",
       "        text-align: right;\n",
       "    }\n",
       "</style>\n",
       "<table border=\"1\" class=\"dataframe\">\n",
       "  <thead>\n",
       "    <tr style=\"text-align: right;\">\n",
       "      <th></th>\n",
       "      <th>age</th>\n",
       "      <th>education-num</th>\n",
       "      <th>sex</th>\n",
       "      <th>hours-per-week</th>\n",
       "      <th>income</th>\n",
       "      <th>sex_effect</th>\n",
       "    </tr>\n",
       "  </thead>\n",
       "  <tbody>\n",
       "    <tr>\n",
       "      <th>0</th>\n",
       "      <td>39</td>\n",
       "      <td>13</td>\n",
       "      <td>Male</td>\n",
       "      <td>40</td>\n",
       "      <td>&lt;=50K</td>\n",
       "      <td>0.208553</td>\n",
       "    </tr>\n",
       "    <tr>\n",
       "      <th>1</th>\n",
       "      <td>50</td>\n",
       "      <td>13</td>\n",
       "      <td>Male</td>\n",
       "      <td>13</td>\n",
       "      <td>&lt;=50K</td>\n",
       "      <td>-0.106219</td>\n",
       "    </tr>\n",
       "    <tr>\n",
       "      <th>2</th>\n",
       "      <td>38</td>\n",
       "      <td>9</td>\n",
       "      <td>Male</td>\n",
       "      <td>40</td>\n",
       "      <td>&lt;=50K</td>\n",
       "      <td>0.167718</td>\n",
       "    </tr>\n",
       "    <tr>\n",
       "      <th>3</th>\n",
       "      <td>53</td>\n",
       "      <td>7</td>\n",
       "      <td>Male</td>\n",
       "      <td>40</td>\n",
       "      <td>&lt;=50K</td>\n",
       "      <td>0.061229</td>\n",
       "    </tr>\n",
       "    <tr>\n",
       "      <th>4</th>\n",
       "      <td>28</td>\n",
       "      <td>13</td>\n",
       "      <td>Female</td>\n",
       "      <td>40</td>\n",
       "      <td>&lt;=50K</td>\n",
       "      <td>0.031846</td>\n",
       "    </tr>\n",
       "  </tbody>\n",
       "</table>\n",
       "</div>"
      ],
      "text/plain": [
       "   age  education-num      sex  hours-per-week  income  sex_effect\n",
       "0  39   13              Male    40               <=50K  0.208553  \n",
       "1  50   13              Male    13               <=50K -0.106219  \n",
       "2  38   9               Male    40               <=50K  0.167718  \n",
       "3  53   7               Male    40               <=50K  0.061229  \n",
       "4  28   13              Female  40               <=50K  0.031846  "
      ]
     },
     "execution_count": 12,
     "metadata": {},
     "output_type": "execute_result"
    }
   ],
   "source": [
    "df_origin_effect = get_filp_effect(origin_flip)\n",
    "df_origin_effect.head()"
   ]
  },
  {
   "cell_type": "markdown",
   "metadata": {},
   "source": [
    "**subgroup discovery: use sex_effect as target**"
   ]
  },
  {
   "cell_type": "code",
   "execution_count": 13,
   "metadata": {
    "ExecuteTime": {
     "end_time": "2019-07-20T09:51:45.454660Z",
     "start_time": "2019-07-20T09:51:41.881232Z"
    },
    "scrolled": true
   },
   "outputs": [
    {
     "data": {
      "text/html": [
       "<div>\n",
       "<style scoped>\n",
       "    .dataframe tbody tr th:only-of-type {\n",
       "        vertical-align: middle;\n",
       "    }\n",
       "\n",
       "    .dataframe tbody tr th {\n",
       "        vertical-align: top;\n",
       "    }\n",
       "\n",
       "    .dataframe thead th {\n",
       "        text-align: right;\n",
       "    }\n",
       "</style>\n",
       "<table border=\"1\" class=\"dataframe\">\n",
       "  <thead>\n",
       "    <tr style=\"text-align: right;\">\n",
       "      <th></th>\n",
       "      <th>quality</th>\n",
       "      <th>subgroup</th>\n",
       "      <th>size_sg</th>\n",
       "      <th>mean_sg</th>\n",
       "      <th>mean_dataset</th>\n",
       "      <th>mean_lift</th>\n",
       "    </tr>\n",
       "  </thead>\n",
       "  <tbody>\n",
       "    <tr>\n",
       "      <th>0</th>\n",
       "      <td>0.049414</td>\n",
       "      <td>hours-per-week&gt;=50</td>\n",
       "      <td>1020.0</td>\n",
       "      <td>0.230426</td>\n",
       "      <td>0.121022</td>\n",
       "      <td>1.903995</td>\n",
       "    </tr>\n",
       "    <tr>\n",
       "      <th>1</th>\n",
       "      <td>0.046422</td>\n",
       "      <td>sex= Male AND hours-per-week&gt;=50</td>\n",
       "      <td>863.0</td>\n",
       "      <td>0.232762</td>\n",
       "      <td>0.121022</td>\n",
       "      <td>1.923295</td>\n",
       "    </tr>\n",
       "    <tr>\n",
       "      <th>2</th>\n",
       "      <td>0.038964</td>\n",
       "      <td>education-num&gt;=13 AND hours-per-week&gt;=50</td>\n",
       "      <td>404.0</td>\n",
       "      <td>0.258098</td>\n",
       "      <td>0.121022</td>\n",
       "      <td>2.132649</td>\n",
       "    </tr>\n",
       "    <tr>\n",
       "      <th>3</th>\n",
       "      <td>0.035827</td>\n",
       "      <td>age&gt;=50 AND hours-per-week&gt;=50</td>\n",
       "      <td>206.0</td>\n",
       "      <td>0.297531</td>\n",
       "      <td>0.121022</td>\n",
       "      <td>2.458484</td>\n",
       "    </tr>\n",
       "    <tr>\n",
       "      <th>4</th>\n",
       "      <td>0.034374</td>\n",
       "      <td>age: [41:50[ AND hours-per-week&gt;=50</td>\n",
       "      <td>255.0</td>\n",
       "      <td>0.273234</td>\n",
       "      <td>0.121022</td>\n",
       "      <td>2.257718</td>\n",
       "    </tr>\n",
       "  </tbody>\n",
       "</table>\n",
       "</div>"
      ],
      "text/plain": [
       "    quality                                  subgroup  size_sg   mean_sg  \\\n",
       "0  0.049414  hours-per-week>=50                        1020.0   0.230426   \n",
       "1  0.046422  sex= Male AND hours-per-week>=50          863.0    0.232762   \n",
       "2  0.038964  education-num>=13 AND hours-per-week>=50  404.0    0.258098   \n",
       "3  0.035827  age>=50 AND hours-per-week>=50            206.0    0.297531   \n",
       "4  0.034374  age: [41:50[ AND hours-per-week>=50       255.0    0.273234   \n",
       "\n",
       "   mean_dataset  mean_lift  \n",
       "0  0.121022      1.903995   \n",
       "1  0.121022      1.923295   \n",
       "2  0.121022      2.132649   \n",
       "3  0.121022      2.458484   \n",
       "4  0.121022      2.257718   "
      ]
     },
     "execution_count": 13,
     "metadata": {},
     "output_type": "execute_result"
    }
   ],
   "source": [
    "target_name = 'sex_effect'\n",
    "df_origin_sd = subgroup_discovery(df_origin_effect, target_name, ssd.IncrementalQFNumeric(1))\n",
    "df_origin_sd[:5]"
   ]
  },
  {
   "cell_type": "markdown",
   "metadata": {},
   "source": [
    "**flip effect on `synthetic_model`**"
   ]
  },
  {
   "cell_type": "code",
   "execution_count": 14,
   "metadata": {
    "ExecuteTime": {
     "end_time": "2019-07-20T09:51:46.455828Z",
     "start_time": "2019-07-20T09:51:46.281791Z"
    },
    "scrolled": true
   },
   "outputs": [
    {
     "name": "stdout",
     "output_type": "stream",
     "text": [
      "sex effect from \"1\" to \"0\"\n"
     ]
    },
    {
     "data": {
      "text/html": [
       "<div>\n",
       "<style scoped>\n",
       "    .dataframe tbody tr th:only-of-type {\n",
       "        vertical-align: middle;\n",
       "    }\n",
       "\n",
       "    .dataframe tbody tr th {\n",
       "        vertical-align: top;\n",
       "    }\n",
       "\n",
       "    .dataframe thead th {\n",
       "        text-align: right;\n",
       "    }\n",
       "</style>\n",
       "<table border=\"1\" class=\"dataframe\">\n",
       "  <thead>\n",
       "    <tr style=\"text-align: right;\">\n",
       "      <th></th>\n",
       "      <th>age</th>\n",
       "      <th>education-num</th>\n",
       "      <th>sex</th>\n",
       "      <th>hours-per-week</th>\n",
       "      <th>income</th>\n",
       "      <th>sex_effect</th>\n",
       "    </tr>\n",
       "  </thead>\n",
       "  <tbody>\n",
       "    <tr>\n",
       "      <th>0</th>\n",
       "      <td>39</td>\n",
       "      <td>13</td>\n",
       "      <td>Male</td>\n",
       "      <td>40</td>\n",
       "      <td>&lt;=50K</td>\n",
       "      <td>0.993293</td>\n",
       "    </tr>\n",
       "    <tr>\n",
       "      <th>1</th>\n",
       "      <td>50</td>\n",
       "      <td>13</td>\n",
       "      <td>Male</td>\n",
       "      <td>13</td>\n",
       "      <td>&lt;=50K</td>\n",
       "      <td>0.993293</td>\n",
       "    </tr>\n",
       "    <tr>\n",
       "      <th>2</th>\n",
       "      <td>38</td>\n",
       "      <td>9</td>\n",
       "      <td>Male</td>\n",
       "      <td>40</td>\n",
       "      <td>&lt;=50K</td>\n",
       "      <td>0.174248</td>\n",
       "    </tr>\n",
       "    <tr>\n",
       "      <th>3</th>\n",
       "      <td>53</td>\n",
       "      <td>7</td>\n",
       "      <td>Male</td>\n",
       "      <td>40</td>\n",
       "      <td>&lt;=50K</td>\n",
       "      <td>0.064115</td>\n",
       "    </tr>\n",
       "    <tr>\n",
       "      <th>4</th>\n",
       "      <td>28</td>\n",
       "      <td>13</td>\n",
       "      <td>Female</td>\n",
       "      <td>40</td>\n",
       "      <td>&lt;=50K</td>\n",
       "      <td>0.993293</td>\n",
       "    </tr>\n",
       "  </tbody>\n",
       "</table>\n",
       "</div>"
      ],
      "text/plain": [
       "   age  education-num      sex  hours-per-week  income  sex_effect\n",
       "0  39   13              Male    40               <=50K  0.993293  \n",
       "1  50   13              Male    13               <=50K  0.993293  \n",
       "2  38   9               Male    40               <=50K  0.174248  \n",
       "3  53   7               Male    40               <=50K  0.064115  \n",
       "4  28   13              Female  40               <=50K  0.993293  "
      ]
     },
     "execution_count": 14,
     "metadata": {},
     "output_type": "execute_result"
    }
   ],
   "source": [
    "df_syn_effect = get_filp_effect(syn_flip)\n",
    "df_syn_effect.head()"
   ]
  },
  {
   "cell_type": "code",
   "execution_count": 15,
   "metadata": {
    "ExecuteTime": {
     "end_time": "2019-07-20T09:51:51.623948Z",
     "start_time": "2019-07-20T09:51:47.568148Z"
    },
    "scrolled": true
   },
   "outputs": [
    {
     "data": {
      "text/html": [
       "<div>\n",
       "<style scoped>\n",
       "    .dataframe tbody tr th:only-of-type {\n",
       "        vertical-align: middle;\n",
       "    }\n",
       "\n",
       "    .dataframe tbody tr th {\n",
       "        vertical-align: top;\n",
       "    }\n",
       "\n",
       "    .dataframe thead th {\n",
       "        text-align: right;\n",
       "    }\n",
       "</style>\n",
       "<table border=\"1\" class=\"dataframe\">\n",
       "  <thead>\n",
       "    <tr style=\"text-align: right;\">\n",
       "      <th></th>\n",
       "      <th>quality</th>\n",
       "      <th>subgroup</th>\n",
       "      <th>size_sg</th>\n",
       "      <th>mean_sg</th>\n",
       "      <th>mean_dataset</th>\n",
       "      <th>mean_lift</th>\n",
       "    </tr>\n",
       "  </thead>\n",
       "  <tbody>\n",
       "    <tr>\n",
       "      <th>0</th>\n",
       "      <td>0.336058</td>\n",
       "      <td>education-num&gt;=13</td>\n",
       "      <td>1228.0</td>\n",
       "      <td>0.993293</td>\n",
       "      <td>0.315184</td>\n",
       "      <td>3.151469</td>\n",
       "    </tr>\n",
       "    <tr>\n",
       "      <th>1</th>\n",
       "      <td>0.287697</td>\n",
       "      <td>sex= Male AND education-num&gt;=13</td>\n",
       "      <td>900.0</td>\n",
       "      <td>0.993293</td>\n",
       "      <td>0.315184</td>\n",
       "      <td>3.151469</td>\n",
       "    </tr>\n",
       "    <tr>\n",
       "      <th>2</th>\n",
       "      <td>0.215079</td>\n",
       "      <td>education-num&gt;=13 AND hours-per-week: [40:41[</td>\n",
       "      <td>503.0</td>\n",
       "      <td>0.993293</td>\n",
       "      <td>0.315184</td>\n",
       "      <td>3.151469</td>\n",
       "    </tr>\n",
       "    <tr>\n",
       "      <th>3</th>\n",
       "      <td>0.192755</td>\n",
       "      <td>education-num&gt;=13 AND hours-per-week&gt;=50</td>\n",
       "      <td>404.0</td>\n",
       "      <td>0.993293</td>\n",
       "      <td>0.315184</td>\n",
       "      <td>3.151469</td>\n",
       "    </tr>\n",
       "    <tr>\n",
       "      <th>4</th>\n",
       "      <td>0.173681</td>\n",
       "      <td>education-num&gt;=13 AND sex= Female</td>\n",
       "      <td>328.0</td>\n",
       "      <td>0.993293</td>\n",
       "      <td>0.315184</td>\n",
       "      <td>3.151469</td>\n",
       "    </tr>\n",
       "  </tbody>\n",
       "</table>\n",
       "</div>"
      ],
      "text/plain": [
       "    quality                                       subgroup  size_sg   mean_sg  \\\n",
       "0  0.336058  education-num>=13                              1228.0   0.993293   \n",
       "1  0.287697  sex= Male AND education-num>=13                900.0    0.993293   \n",
       "2  0.215079  education-num>=13 AND hours-per-week: [40:41[  503.0    0.993293   \n",
       "3  0.192755  education-num>=13 AND hours-per-week>=50       404.0    0.993293   \n",
       "4  0.173681  education-num>=13 AND sex= Female              328.0    0.993293   \n",
       "\n",
       "   mean_dataset  mean_lift  \n",
       "0  0.315184      3.151469   \n",
       "1  0.315184      3.151469   \n",
       "2  0.315184      3.151469   \n",
       "3  0.315184      3.151469   \n",
       "4  0.315184      3.151469   "
      ]
     },
     "execution_count": 15,
     "metadata": {},
     "output_type": "execute_result"
    }
   ],
   "source": [
    "df_syn_sd = subgroup_discovery(df_syn_effect, target_name, ssd.IncrementalQFNumeric(1))\n",
    "df_syn_sd[:5]"
   ]
  },
  {
   "cell_type": "markdown",
   "metadata": {},
   "source": [
    "<font color='blue'>\n",
    "    \n",
    "subgroup discovery explanation on two models\n",
    "\n",
    "`origin_model`: in the subgroup `hours-per-week>=50`, it has the largest impact of `sex` while flipping from 'Male' to 'Female'. Generally to say, it has twice the prediction change than overall mean change. \n",
    "\n",
    "`synthetic_model`: in subgroup `education>=13` or `sex= Male AND education-num>=13`, it has the largest impact of `sex` while flipping from 'Male' to 'Female'. It has three times more change than the overall mean change. "
   ]
  },
  {
   "cell_type": "markdown",
   "metadata": {},
   "source": [
    "**calculate shapley values on \"sex\" feature based on `origin_model`**"
   ]
  },
  {
   "cell_type": "code",
   "execution_count": 18,
   "metadata": {
    "ExecuteTime": {
     "end_time": "2019-07-20T09:52:08.536325Z",
     "start_time": "2019-07-20T09:52:07.841347Z"
    }
   },
   "outputs": [
    {
     "data": {
      "text/html": [
       "<div>\n",
       "<style scoped>\n",
       "    .dataframe tbody tr th:only-of-type {\n",
       "        vertical-align: middle;\n",
       "    }\n",
       "\n",
       "    .dataframe tbody tr th {\n",
       "        vertical-align: top;\n",
       "    }\n",
       "\n",
       "    .dataframe thead th {\n",
       "        text-align: right;\n",
       "    }\n",
       "</style>\n",
       "<table border=\"1\" class=\"dataframe\">\n",
       "  <thead>\n",
       "    <tr style=\"text-align: right;\">\n",
       "      <th></th>\n",
       "      <th>age</th>\n",
       "      <th>education-num</th>\n",
       "      <th>sex</th>\n",
       "      <th>hours-per-week</th>\n",
       "      <th>income</th>\n",
       "      <th>sex_shap_values</th>\n",
       "    </tr>\n",
       "  </thead>\n",
       "  <tbody>\n",
       "    <tr>\n",
       "      <th>0</th>\n",
       "      <td>39</td>\n",
       "      <td>13</td>\n",
       "      <td>Male</td>\n",
       "      <td>40</td>\n",
       "      <td>&lt;=50K</td>\n",
       "      <td>0.218425</td>\n",
       "    </tr>\n",
       "    <tr>\n",
       "      <th>1</th>\n",
       "      <td>50</td>\n",
       "      <td>13</td>\n",
       "      <td>Male</td>\n",
       "      <td>13</td>\n",
       "      <td>&lt;=50K</td>\n",
       "      <td>0.052288</td>\n",
       "    </tr>\n",
       "    <tr>\n",
       "      <th>2</th>\n",
       "      <td>38</td>\n",
       "      <td>9</td>\n",
       "      <td>Male</td>\n",
       "      <td>40</td>\n",
       "      <td>&lt;=50K</td>\n",
       "      <td>0.268240</td>\n",
       "    </tr>\n",
       "    <tr>\n",
       "      <th>3</th>\n",
       "      <td>53</td>\n",
       "      <td>7</td>\n",
       "      <td>Male</td>\n",
       "      <td>40</td>\n",
       "      <td>&lt;=50K</td>\n",
       "      <td>0.204471</td>\n",
       "    </tr>\n",
       "    <tr>\n",
       "      <th>4</th>\n",
       "      <td>28</td>\n",
       "      <td>13</td>\n",
       "      <td>Female</td>\n",
       "      <td>40</td>\n",
       "      <td>&lt;=50K</td>\n",
       "      <td>-0.329139</td>\n",
       "    </tr>\n",
       "  </tbody>\n",
       "</table>\n",
       "</div>"
      ],
      "text/plain": [
       "   age  education-num      sex  hours-per-week  income  sex_shap_values\n",
       "0  39   13              Male    40               <=50K  0.218425       \n",
       "1  50   13              Male    13               <=50K  0.052288       \n",
       "2  38   9               Male    40               <=50K  0.268240       \n",
       "3  53   7               Male    40               <=50K  0.204471       \n",
       "4  28   13              Female  40               <=50K -0.329139       "
      ]
     },
     "execution_count": 18,
     "metadata": {},
     "output_type": "execute_result"
    }
   ],
   "source": [
    "df_origin_shap_effect = get_filp_shap_effect(origin_flip)\n",
    "df_origin_shap_effect.head()"
   ]
  },
  {
   "cell_type": "markdown",
   "metadata": {},
   "source": [
    "**subgroup discovery: use sex_shap_values as target**"
   ]
  },
  {
   "cell_type": "code",
   "execution_count": 19,
   "metadata": {
    "ExecuteTime": {
     "end_time": "2019-07-20T09:52:13.430161Z",
     "start_time": "2019-07-20T09:52:09.416326Z"
    }
   },
   "outputs": [
    {
     "data": {
      "text/html": [
       "<div>\n",
       "<style scoped>\n",
       "    .dataframe tbody tr th:only-of-type {\n",
       "        vertical-align: middle;\n",
       "    }\n",
       "\n",
       "    .dataframe tbody tr th {\n",
       "        vertical-align: top;\n",
       "    }\n",
       "\n",
       "    .dataframe thead th {\n",
       "        text-align: right;\n",
       "    }\n",
       "</style>\n",
       "<table border=\"1\" class=\"dataframe\">\n",
       "  <thead>\n",
       "    <tr style=\"text-align: right;\">\n",
       "      <th></th>\n",
       "      <th>quality</th>\n",
       "      <th>subgroup</th>\n",
       "      <th>size_sg</th>\n",
       "      <th>mean_sg</th>\n",
       "      <th>mean_dataset</th>\n",
       "      <th>mean_lift</th>\n",
       "    </tr>\n",
       "  </thead>\n",
       "  <tbody>\n",
       "    <tr>\n",
       "      <th>0</th>\n",
       "      <td>0.162703</td>\n",
       "      <td>sex= Male</td>\n",
       "      <td>3371.0</td>\n",
       "      <td>0.209115</td>\n",
       "      <td>0.010962</td>\n",
       "      <td>19.075868</td>\n",
       "    </tr>\n",
       "    <tr>\n",
       "      <th>1</th>\n",
       "      <td>0.111643</td>\n",
       "      <td>sex= Male AND hours-per-week&gt;=50</td>\n",
       "      <td>863.0</td>\n",
       "      <td>0.279688</td>\n",
       "      <td>0.010962</td>\n",
       "      <td>25.513613</td>\n",
       "    </tr>\n",
       "    <tr>\n",
       "      <th>2</th>\n",
       "      <td>0.109723</td>\n",
       "      <td>sex= Male AND hours-per-week: [40:41[</td>\n",
       "      <td>1568.0</td>\n",
       "      <td>0.206895</td>\n",
       "      <td>0.010962</td>\n",
       "      <td>18.873356</td>\n",
       "    </tr>\n",
       "    <tr>\n",
       "      <th>3</th>\n",
       "      <td>0.101161</td>\n",
       "      <td>sex= Male AND education-num: [9:10[</td>\n",
       "      <td>1059.0</td>\n",
       "      <td>0.230773</td>\n",
       "      <td>0.010962</td>\n",
       "      <td>21.051509</td>\n",
       "    </tr>\n",
       "    <tr>\n",
       "      <th>4</th>\n",
       "      <td>0.092554</td>\n",
       "      <td>age: [33:41[ AND sex= Male</td>\n",
       "      <td>711.0</td>\n",
       "      <td>0.256403</td>\n",
       "      <td>0.010962</td>\n",
       "      <td>23.389540</td>\n",
       "    </tr>\n",
       "  </tbody>\n",
       "</table>\n",
       "</div>"
      ],
      "text/plain": [
       "    quality                               subgroup  size_sg   mean_sg  \\\n",
       "0  0.162703  sex= Male                              3371.0   0.209115   \n",
       "1  0.111643  sex= Male AND hours-per-week>=50       863.0    0.279688   \n",
       "2  0.109723  sex= Male AND hours-per-week: [40:41[  1568.0   0.206895   \n",
       "3  0.101161  sex= Male AND education-num: [9:10[    1059.0   0.230773   \n",
       "4  0.092554  age: [33:41[ AND sex= Male             711.0    0.256403   \n",
       "\n",
       "   mean_dataset  mean_lift  \n",
       "0  0.010962      19.075868  \n",
       "1  0.010962      25.513613  \n",
       "2  0.010962      18.873356  \n",
       "3  0.010962      21.051509  \n",
       "4  0.010962      23.389540  "
      ]
     },
     "execution_count": 19,
     "metadata": {},
     "output_type": "execute_result"
    }
   ],
   "source": [
    "shap_target_name = 'sex_shap_values'\n",
    "df_origin_shap_sd = subgroup_discovery(df_origin_shap_effect, shap_target_name, ssd.IncrementalQFNumeric(1))\n",
    "df_origin_shap_sd[:5]"
   ]
  },
  {
   "cell_type": "markdown",
   "metadata": {},
   "source": [
    "**calculate shapley values on \"sex\" feature based on `synthetic_model`**"
   ]
  },
  {
   "cell_type": "code",
   "execution_count": 20,
   "metadata": {
    "ExecuteTime": {
     "end_time": "2019-07-20T09:52:14.826292Z",
     "start_time": "2019-07-20T09:52:14.152932Z"
    }
   },
   "outputs": [
    {
     "data": {
      "text/html": [
       "<div>\n",
       "<style scoped>\n",
       "    .dataframe tbody tr th:only-of-type {\n",
       "        vertical-align: middle;\n",
       "    }\n",
       "\n",
       "    .dataframe tbody tr th {\n",
       "        vertical-align: top;\n",
       "    }\n",
       "\n",
       "    .dataframe thead th {\n",
       "        text-align: right;\n",
       "    }\n",
       "</style>\n",
       "<table border=\"1\" class=\"dataframe\">\n",
       "  <thead>\n",
       "    <tr style=\"text-align: right;\">\n",
       "      <th></th>\n",
       "      <th>age</th>\n",
       "      <th>education-num</th>\n",
       "      <th>sex</th>\n",
       "      <th>hours-per-week</th>\n",
       "      <th>income</th>\n",
       "      <th>sex_shap_values</th>\n",
       "    </tr>\n",
       "  </thead>\n",
       "  <tbody>\n",
       "    <tr>\n",
       "      <th>0</th>\n",
       "      <td>39</td>\n",
       "      <td>13</td>\n",
       "      <td>Male</td>\n",
       "      <td>40</td>\n",
       "      <td>&lt;=50K</td>\n",
       "      <td>2.003093</td>\n",
       "    </tr>\n",
       "    <tr>\n",
       "      <th>1</th>\n",
       "      <td>50</td>\n",
       "      <td>13</td>\n",
       "      <td>Male</td>\n",
       "      <td>13</td>\n",
       "      <td>&lt;=50K</td>\n",
       "      <td>1.953297</td>\n",
       "    </tr>\n",
       "    <tr>\n",
       "      <th>2</th>\n",
       "      <td>38</td>\n",
       "      <td>9</td>\n",
       "      <td>Male</td>\n",
       "      <td>40</td>\n",
       "      <td>&lt;=50K</td>\n",
       "      <td>0.610758</td>\n",
       "    </tr>\n",
       "    <tr>\n",
       "      <th>3</th>\n",
       "      <td>53</td>\n",
       "      <td>7</td>\n",
       "      <td>Male</td>\n",
       "      <td>40</td>\n",
       "      <td>&lt;=50K</td>\n",
       "      <td>0.539034</td>\n",
       "    </tr>\n",
       "    <tr>\n",
       "      <th>4</th>\n",
       "      <td>28</td>\n",
       "      <td>13</td>\n",
       "      <td>Female</td>\n",
       "      <td>40</td>\n",
       "      <td>&lt;=50K</td>\n",
       "      <td>-5.387226</td>\n",
       "    </tr>\n",
       "  </tbody>\n",
       "</table>\n",
       "</div>"
      ],
      "text/plain": [
       "   age  education-num      sex  hours-per-week  income  sex_shap_values\n",
       "0  39   13              Male    40               <=50K  2.003093       \n",
       "1  50   13              Male    13               <=50K  1.953297       \n",
       "2  38   9               Male    40               <=50K  0.610758       \n",
       "3  53   7               Male    40               <=50K  0.539034       \n",
       "4  28   13              Female  40               <=50K -5.387226       "
      ]
     },
     "execution_count": 20,
     "metadata": {},
     "output_type": "execute_result"
    }
   ],
   "source": [
    "df_syn_shap_effect = get_filp_shap_effect(syn_flip)\n",
    "df_syn_shap_effect.head()"
   ]
  },
  {
   "cell_type": "code",
   "execution_count": 21,
   "metadata": {
    "ExecuteTime": {
     "end_time": "2019-07-20T09:52:18.931994Z",
     "start_time": "2019-07-20T09:52:14.828470Z"
    }
   },
   "outputs": [
    {
     "data": {
      "text/html": [
       "<div>\n",
       "<style scoped>\n",
       "    .dataframe tbody tr th:only-of-type {\n",
       "        vertical-align: middle;\n",
       "    }\n",
       "\n",
       "    .dataframe tbody tr th {\n",
       "        vertical-align: top;\n",
       "    }\n",
       "\n",
       "    .dataframe thead th {\n",
       "        text-align: right;\n",
       "    }\n",
       "</style>\n",
       "<table border=\"1\" class=\"dataframe\">\n",
       "  <thead>\n",
       "    <tr style=\"text-align: right;\">\n",
       "      <th></th>\n",
       "      <th>quality</th>\n",
       "      <th>subgroup</th>\n",
       "      <th>size_sg</th>\n",
       "      <th>mean_sg</th>\n",
       "      <th>mean_dataset</th>\n",
       "      <th>mean_lift</th>\n",
       "    </tr>\n",
       "  </thead>\n",
       "  <tbody>\n",
       "    <tr>\n",
       "      <th>0</th>\n",
       "      <td>0.880247</td>\n",
       "      <td>education-num&gt;=13 AND sex= Male</td>\n",
       "      <td>900.0</td>\n",
       "      <td>1.999238</td>\n",
       "      <td>-0.075523</td>\n",
       "      <td>-26.471844</td>\n",
       "    </tr>\n",
       "    <tr>\n",
       "      <th>1</th>\n",
       "      <td>0.827261</td>\n",
       "      <td>sex= Male</td>\n",
       "      <td>3371.0</td>\n",
       "      <td>0.931984</td>\n",
       "      <td>-0.075523</td>\n",
       "      <td>-12.340362</td>\n",
       "    </tr>\n",
       "    <tr>\n",
       "      <th>2</th>\n",
       "      <td>0.527285</td>\n",
       "      <td>sex= Male AND hours-per-week: [40:41[</td>\n",
       "      <td>1568.0</td>\n",
       "      <td>0.866058</td>\n",
       "      <td>-0.075523</td>\n",
       "      <td>-11.467443</td>\n",
       "    </tr>\n",
       "    <tr>\n",
       "      <th>3</th>\n",
       "      <td>0.505112</td>\n",
       "      <td>sex= Male AND hours-per-week&gt;=50</td>\n",
       "      <td>863.0</td>\n",
       "      <td>1.140291</td>\n",
       "      <td>-0.075523</td>\n",
       "      <td>-15.098558</td>\n",
       "    </tr>\n",
       "    <tr>\n",
       "      <th>4</th>\n",
       "      <td>0.430192</td>\n",
       "      <td>age: [41:50[ AND sex= Male</td>\n",
       "      <td>727.0</td>\n",
       "      <td>1.052661</td>\n",
       "      <td>-0.075523</td>\n",
       "      <td>-13.938242</td>\n",
       "    </tr>\n",
       "  </tbody>\n",
       "</table>\n",
       "</div>"
      ],
      "text/plain": [
       "    quality                               subgroup  size_sg   mean_sg  \\\n",
       "0  0.880247  education-num>=13 AND sex= Male        900.0    1.999238   \n",
       "1  0.827261  sex= Male                              3371.0   0.931984   \n",
       "2  0.527285  sex= Male AND hours-per-week: [40:41[  1568.0   0.866058   \n",
       "3  0.505112  sex= Male AND hours-per-week>=50       863.0    1.140291   \n",
       "4  0.430192  age: [41:50[ AND sex= Male             727.0    1.052661   \n",
       "\n",
       "   mean_dataset  mean_lift  \n",
       "0 -0.075523     -26.471844  \n",
       "1 -0.075523     -12.340362  \n",
       "2 -0.075523     -11.467443  \n",
       "3 -0.075523     -15.098558  \n",
       "4 -0.075523     -13.938242  "
      ]
     },
     "execution_count": 21,
     "metadata": {},
     "output_type": "execute_result"
    }
   ],
   "source": [
    "shap_target_name = 'sex_shap_values'\n",
    "df_syn_shap_sd = subgroup_discovery(df_syn_shap_effect, shap_target_name, ssd.IncrementalQFNumeric(1))\n",
    "df_syn_shap_sd[:5]"
   ]
  },
  {
   "cell_type": "markdown",
   "metadata": {},
   "source": [
    "<font color='blue'>\n",
    "    \n",
    "First, we calculate the shapley values for `sex` feature relied on both models.\n",
    "\n",
    "**shapley values is larger, which means in this single instance, `sex` contributes more to the final prediction, indicating the probability towards predicting `income>50K` is higher**\n",
    "\n",
    "`origin_model`: in the subgroup `sex= Male` or `sex= Male AND hours-per-week>=50`, 'sex' has the largest impact, which indicates that it has higher tendency to predict `income>50K`\n",
    "\n",
    "`synthetic_model`: in the subgroup `education-num>=13 AND sex= Male` or `sex= Male`, feature 'sex' has the largest impact"
   ]
  },
  {
   "cell_type": "code",
   "execution_count": null,
   "metadata": {},
   "outputs": [],
   "source": []
  },
  {
   "cell_type": "code",
   "execution_count": null,
   "metadata": {},
   "outputs": [],
   "source": []
  }
 ],
 "metadata": {
  "hide_input": false,
  "kernelspec": {
   "display_name": ".venv",
   "language": "python",
   "name": ".venv"
  },
  "language_info": {
   "codemirror_mode": {
    "name": "ipython",
    "version": 3
   },
   "file_extension": ".py",
   "mimetype": "text/x-python",
   "name": "python",
   "nbconvert_exporter": "python",
   "pygments_lexer": "ipython3",
   "version": "3.7.3"
  },
  "toc": {
   "base_numbering": 1,
   "nav_menu": {},
   "number_sections": true,
   "sideBar": true,
   "skip_h1_title": false,
   "title_cell": "Table of Contents",
   "title_sidebar": "Contents",
   "toc_cell": false,
   "toc_position": {},
   "toc_section_display": true,
   "toc_window_display": false
  }
 },
 "nbformat": 4,
 "nbformat_minor": 2
}
