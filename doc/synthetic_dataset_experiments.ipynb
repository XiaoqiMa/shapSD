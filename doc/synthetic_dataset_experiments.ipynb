{
 "cells": [
  {
   "cell_type": "code",
   "execution_count": 1,
   "metadata": {
    "ExecuteTime": {
     "end_time": "2019-07-31T08:18:03.068342Z",
     "start_time": "2019-07-31T08:17:59.195010Z"
    }
   },
   "outputs": [
    {
     "name": "stderr",
     "output_type": "stream",
     "text": [
      "Using TensorFlow backend.\n"
     ]
    }
   ],
   "source": [
    "import sys\n",
    "sys.path.append('..')\n",
    "import shapSD as ssd\n",
    "import pandas as pd\n",
    "#Display all content in dataframe\n",
    "pd.set_option('display.max_colwidth', -1)"
   ]
  },
  {
   "cell_type": "code",
   "execution_count": 2,
   "metadata": {
    "ExecuteTime": {
     "end_time": "2019-07-31T08:18:03.182945Z",
     "start_time": "2019-07-31T08:18:03.070574Z"
    },
    "scrolled": true
   },
   "outputs": [
    {
     "data": {
      "text/html": [
       "<div>\n",
       "<style scoped>\n",
       "    .dataframe tbody tr th:only-of-type {\n",
       "        vertical-align: middle;\n",
       "    }\n",
       "\n",
       "    .dataframe tbody tr th {\n",
       "        vertical-align: top;\n",
       "    }\n",
       "\n",
       "    .dataframe thead th {\n",
       "        text-align: right;\n",
       "    }\n",
       "</style>\n",
       "<table border=\"1\" class=\"dataframe\">\n",
       "  <thead>\n",
       "    <tr style=\"text-align: right;\">\n",
       "      <th></th>\n",
       "      <th>age</th>\n",
       "      <th>education-num</th>\n",
       "      <th>sex</th>\n",
       "      <th>hours-per-week</th>\n",
       "      <th>income</th>\n",
       "    </tr>\n",
       "  </thead>\n",
       "  <tbody>\n",
       "    <tr>\n",
       "      <th>0</th>\n",
       "      <td>39</td>\n",
       "      <td>13</td>\n",
       "      <td>1</td>\n",
       "      <td>40</td>\n",
       "      <td>0</td>\n",
       "    </tr>\n",
       "    <tr>\n",
       "      <th>1</th>\n",
       "      <td>50</td>\n",
       "      <td>13</td>\n",
       "      <td>1</td>\n",
       "      <td>13</td>\n",
       "      <td>0</td>\n",
       "    </tr>\n",
       "    <tr>\n",
       "      <th>2</th>\n",
       "      <td>38</td>\n",
       "      <td>9</td>\n",
       "      <td>1</td>\n",
       "      <td>40</td>\n",
       "      <td>0</td>\n",
       "    </tr>\n",
       "    <tr>\n",
       "      <th>3</th>\n",
       "      <td>53</td>\n",
       "      <td>7</td>\n",
       "      <td>1</td>\n",
       "      <td>40</td>\n",
       "      <td>0</td>\n",
       "    </tr>\n",
       "    <tr>\n",
       "      <th>4</th>\n",
       "      <td>28</td>\n",
       "      <td>13</td>\n",
       "      <td>0</td>\n",
       "      <td>40</td>\n",
       "      <td>0</td>\n",
       "    </tr>\n",
       "  </tbody>\n",
       "</table>\n",
       "</div>"
      ],
      "text/plain": [
       "   age  education-num  sex  hours-per-week  income\n",
       "0  39   13             1    40              0     \n",
       "1  50   13             1    13              0     \n",
       "2  38   9              1    40              0     \n",
       "3  53   7              1    40              0     \n",
       "4  28   13             0    40              0     "
      ]
     },
     "execution_count": 2,
     "metadata": {},
     "output_type": "execute_result"
    }
   ],
   "source": [
    "file_path = '../data/adult.csv'\n",
    "original_adult = pd.read_csv(file_path, index_col=0)\n",
    "original_adult = original_adult[:5000]\n",
    "original_adult = original_adult[['age', 'education-num', 'sex', 'hours-per-week', 'income']]\n",
    "origin_adult = ssd.DataEncoder(original_adult).label_encoding()\n",
    "origin_adult.head()"
   ]
  },
  {
   "cell_type": "markdown",
   "metadata": {},
   "source": [
    "**Train model on the original dataset**"
   ]
  },
  {
   "cell_type": "code",
   "execution_count": 3,
   "metadata": {
    "ExecuteTime": {
     "end_time": "2019-07-31T08:18:04.100346Z",
     "start_time": "2019-07-31T08:18:03.185398Z"
    }
   },
   "outputs": [
    {
     "data": {
      "image/png": "[encoded data removed]",
      "text/plain": [
       "<Figure size 720x432 with 1 Axes>"
      ]
     },
     "metadata": {
      "needs_background": "light"
     },
     "output_type": "display_data"
    }
   ],
   "source": [
    "x_train, y_train = origin_adult.drop('income', axis=1), origin_adult[['income']]\n",
    "# init lightgbm model\n",
    "origin_lgb_model = ssd.InitializeModel(x_train, y_train).lgb_clf_model()\n",
    "# construct FeamtureImportance class, to visualize feature importance\n",
    "origin_feature_imp = ssd.FeatureImportance(x_train, y_train, origin_lgb_model)\n",
    "origin_imp = origin_feature_imp.permutation_importance()\n",
    "origin_feature_imp.vis_perm_importance(origin_imp)"
   ]
  },
  {
   "cell_type": "markdown",
   "metadata": {},
   "source": [
    "**Train model on synthetic dataset**\n",
    "\n",
    "Constrains:\n",
    "- 'education-num'>12 &  sex='Male': income>50K\n",
    "- 'education-num'>12 &  sex='Female': income<=50K"
   ]
  },
  {
   "cell_type": "code",
   "execution_count": 4,
   "metadata": {
    "ExecuteTime": {
     "end_time": "2019-07-31T08:18:04.278466Z",
     "start_time": "2019-07-31T08:18:04.102611Z"
    }
   },
   "outputs": [],
   "source": [
    "synthetic_adult = origin_adult.copy()\n",
    "male_index = synthetic_adult.loc[(synthetic_adult['education-num']>12) & (synthetic_adult['sex'] == 1)].index\n",
    "female_index = synthetic_adult.loc[(synthetic_adult['education-num']>12) & (synthetic_adult['sex'] == 0)].index\n",
    "synthetic_adult['income'][male_index] = 1\n",
    "synthetic_adult['income'][female_index] = 0"
   ]
  },
  {
   "cell_type": "markdown",
   "metadata": {},
   "source": [
    "**Feature Importance visualization on synthetic model**"
   ]
  },
  {
   "cell_type": "code",
   "execution_count": 5,
   "metadata": {
    "ExecuteTime": {
     "end_time": "2019-07-31T08:18:05.141930Z",
     "start_time": "2019-07-31T08:18:04.281944Z"
    }
   },
   "outputs": [
    {
     "data": {
      "image/png": "[encoded data removed]",
      "text/plain": [
       "<Figure size 720x432 with 1 Axes>"
      ]
     },
     "metadata": {},
     "output_type": "display_data"
    }
   ],
   "source": [
    "new_x_train, new_y_train = synthetic_adult.drop('income', axis=1), synthetic_adult[['income']]\n",
    "# init lightgbm model\n",
    "synthetic_lgb_model = ssd.InitializeModel(new_x_train, new_y_train).lgb_clf_model()\n",
    "\n",
    "# construct FeamtureImportance class, to visualize feature importance\n",
    "synthetic_feature_imp = ssd.FeatureImportance(x_train, y_train, synthetic_lgb_model)\n",
    "synthetic_imp = synthetic_feature_imp.permutation_importance()\n",
    "synthetic_feature_imp.vis_perm_importance(synthetic_imp)"
   ]
  },
  {
   "cell_type": "markdown",
   "metadata": {},
   "source": [
    "<font color='blue'>\n",
    " First construct two models:\n",
    "    \n",
    " - model trained on the original dataset called `origin_model`\n",
    " - model trained on the synthetic dataset called `synthetic_model`\n",
    " \n",
    " - `origin_model` lays most important weights on `education-num` and `age` \n",
    " - while `synthetic_model` highly values features `education-num` and `sex`"
   ]
  },
  {
   "cell_type": "markdown",
   "metadata": {},
   "source": [
    "### Exp1: Binary variable flip"
   ]
  },
  {
   "cell_type": "code",
   "execution_count": 6,
   "metadata": {
    "ExecuteTime": {
     "end_time": "2019-07-31T08:18:05.149657Z",
     "start_time": "2019-07-31T08:18:05.144935Z"
    }
   },
   "outputs": [],
   "source": [
    "# construct BinaryFlip class\n",
    "flip_attr = 'sex'\n",
    "origin_flip = ssd.BinaryFlip(x_train, y_train, origin_lgb_model, flip_attr)\n",
    "syn_flip = ssd.BinaryFlip(x_train, y_train, synthetic_lgb_model, flip_attr)\n"
   ]
  },
  {
   "cell_type": "code",
   "execution_count": 7,
   "metadata": {
    "ExecuteTime": {
     "end_time": "2019-07-31T08:18:05.156526Z",
     "start_time": "2019-07-31T08:18:05.152565Z"
    }
   },
   "outputs": [],
   "source": [
    "def get_filp_effect(binary_flip):\n",
    "    df_male = binary_flip.calc_flip_effect()\n",
    "    df_male_effect = original_adult.copy()\n",
    "    target_name = df_male.columns[-1]\n",
    "    df_male_effect[target_name] = df_male[target_name]\n",
    "    # df_male_effect = pd.concat([df_male_effect, df_male[[target_name]]], axis=1)\n",
    "    return df_male_effect"
   ]
  },
  {
   "cell_type": "code",
   "execution_count": 8,
   "metadata": {
    "ExecuteTime": {
     "end_time": "2019-07-31T08:18:05.166603Z",
     "start_time": "2019-07-31T08:18:05.161262Z"
    }
   },
   "outputs": [],
   "source": [
    "def get_filp_shap_effect(binary_flip):\n",
    "    df_male = binary_flip.calc_flip_shap_values()\n",
    "    df_male_effect = original_adult.copy()\n",
    "    target_name = df_male.columns[-1]\n",
    "    df_male_effect[target_name] = df_male[target_name]\n",
    "    # df_male_effect = pd.concat([df_male_effect, df_male[[target_name]]], axis=1)\n",
    "    return df_male_effect"
   ]
  },
  {
   "cell_type": "code",
   "execution_count": 19,
   "metadata": {
    "ExecuteTime": {
     "end_time": "2019-07-31T08:19:41.283680Z",
     "start_time": "2019-07-31T08:19:41.278506Z"
    }
   },
   "outputs": [],
   "source": [
    "def subgroup_discovery(df_effect, target_name, measure):\n",
    "    target = ssd.NumericTarget(target_name)\n",
    "    search_space = ssd.create_selectors(df_effect, ignore=[target_name, 'income', 'sex'])\n",
    "    task = ssd.SubgroupDiscoveryTask(df_effect, target, search_space, qf=measure, result_set_size=10)\n",
    "    result = ssd.BeamSearch().execute(task)\n",
    "#     result = spd.overlap_filter(result, df_effect, similarity_level=0.85)\n",
    "    df_result = ssd.as_df(df_effect, result, statistics_to_show=ssd.all_statistics_numeric)\n",
    "    return df_result[['quality', 'subgroup', 'size_sg', 'mean_sg', 'mean_dataset', 'mean_lift']]"
   ]
  },
  {
   "cell_type": "markdown",
   "metadata": {},
   "source": [
    "**flip effect on `origin_model`**"
   ]
  },
  {
   "cell_type": "code",
   "execution_count": 10,
   "metadata": {
    "ExecuteTime": {
     "end_time": "2019-07-31T08:18:05.375444Z",
     "start_time": "2019-07-31T08:18:05.181440Z"
    },
    "scrolled": false
   },
   "outputs": [
    {
     "name": "stdout",
     "output_type": "stream",
     "text": [
      "sex effect from \"1\" to \"0\"\n"
     ]
    },
    {
     "data": {
      "text/html": [
       "<div>\n",
       "<style scoped>\n",
       "    .dataframe tbody tr th:only-of-type {\n",
       "        vertical-align: middle;\n",
       "    }\n",
       "\n",
       "    .dataframe tbody tr th {\n",
       "        vertical-align: top;\n",
       "    }\n",
       "\n",
       "    .dataframe thead th {\n",
       "        text-align: right;\n",
       "    }\n",
       "</style>\n",
       "<table border=\"1\" class=\"dataframe\">\n",
       "  <thead>\n",
       "    <tr style=\"text-align: right;\">\n",
       "      <th></th>\n",
       "      <th>age</th>\n",
       "      <th>education-num</th>\n",
       "      <th>sex</th>\n",
       "      <th>hours-per-week</th>\n",
       "      <th>income</th>\n",
       "      <th>sex_effect</th>\n",
       "    </tr>\n",
       "  </thead>\n",
       "  <tbody>\n",
       "    <tr>\n",
       "      <th>0</th>\n",
       "      <td>39</td>\n",
       "      <td>13</td>\n",
       "      <td>Male</td>\n",
       "      <td>40</td>\n",
       "      <td>&lt;=50K</td>\n",
       "      <td>0.208553</td>\n",
       "    </tr>\n",
       "    <tr>\n",
       "      <th>1</th>\n",
       "      <td>50</td>\n",
       "      <td>13</td>\n",
       "      <td>Male</td>\n",
       "      <td>13</td>\n",
       "      <td>&lt;=50K</td>\n",
       "      <td>-0.106219</td>\n",
       "    </tr>\n",
       "    <tr>\n",
       "      <th>2</th>\n",
       "      <td>38</td>\n",
       "      <td>9</td>\n",
       "      <td>Male</td>\n",
       "      <td>40</td>\n",
       "      <td>&lt;=50K</td>\n",
       "      <td>0.167718</td>\n",
       "    </tr>\n",
       "    <tr>\n",
       "      <th>3</th>\n",
       "      <td>53</td>\n",
       "      <td>7</td>\n",
       "      <td>Male</td>\n",
       "      <td>40</td>\n",
       "      <td>&lt;=50K</td>\n",
       "      <td>0.061229</td>\n",
       "    </tr>\n",
       "    <tr>\n",
       "      <th>4</th>\n",
       "      <td>28</td>\n",
       "      <td>13</td>\n",
       "      <td>Female</td>\n",
       "      <td>40</td>\n",
       "      <td>&lt;=50K</td>\n",
       "      <td>0.031846</td>\n",
       "    </tr>\n",
       "  </tbody>\n",
       "</table>\n",
       "</div>"
      ],
      "text/plain": [
       "   age  education-num      sex  hours-per-week  income  sex_effect\n",
       "0  39   13              Male    40               <=50K  0.208553  \n",
       "1  50   13              Male    13               <=50K -0.106219  \n",
       "2  38   9               Male    40               <=50K  0.167718  \n",
       "3  53   7               Male    40               <=50K  0.061229  \n",
       "4  28   13              Female  40               <=50K  0.031846  "
      ]
     },
     "execution_count": 10,
     "metadata": {},
     "output_type": "execute_result"
    }
   ],
   "source": [
    "df_origin_effect = get_filp_effect(origin_flip)\n",
    "df_origin_effect.head()"
   ]
  },
  {
   "cell_type": "markdown",
   "metadata": {},
   "source": [
    "**subgroup discovery: use sex_effect as target**"
   ]
  },
  {
   "cell_type": "code",
   "execution_count": 20,
   "metadata": {
    "ExecuteTime": {
     "end_time": "2019-07-31T08:19:46.618096Z",
     "start_time": "2019-07-31T08:19:45.506065Z"
    },
    "scrolled": true
   },
   "outputs": [
    {
     "data": {
      "text/html": [
       "<div>\n",
       "<style scoped>\n",
       "    .dataframe tbody tr th:only-of-type {\n",
       "        vertical-align: middle;\n",
       "    }\n",
       "\n",
       "    .dataframe tbody tr th {\n",
       "        vertical-align: top;\n",
       "    }\n",
       "\n",
       "    .dataframe thead th {\n",
       "        text-align: right;\n",
       "    }\n",
       "</style>\n",
       "<table border=\"1\" class=\"dataframe\">\n",
       "  <thead>\n",
       "    <tr style=\"text-align: right;\">\n",
       "      <th></th>\n",
       "      <th>quality</th>\n",
       "      <th>subgroup</th>\n",
       "      <th>size_sg</th>\n",
       "      <th>mean_sg</th>\n",
       "      <th>mean_dataset</th>\n",
       "      <th>mean_lift</th>\n",
       "    </tr>\n",
       "  </thead>\n",
       "  <tbody>\n",
       "    <tr>\n",
       "      <th>0</th>\n",
       "      <td>111.591603</td>\n",
       "      <td>hours-per-week&gt;=50</td>\n",
       "      <td>1020.0</td>\n",
       "      <td>0.230426</td>\n",
       "      <td>0.121022</td>\n",
       "      <td>1.903995</td>\n",
       "    </tr>\n",
       "    <tr>\n",
       "      <th>1</th>\n",
       "      <td>80.601812</td>\n",
       "      <td>education-num&gt;=13</td>\n",
       "      <td>1228.0</td>\n",
       "      <td>0.186659</td>\n",
       "      <td>0.121022</td>\n",
       "      <td>1.542352</td>\n",
       "    </tr>\n",
       "    <tr>\n",
       "      <th>2</th>\n",
       "      <td>64.254267</td>\n",
       "      <td>age: [41:50[</td>\n",
       "      <td>1024.0</td>\n",
       "      <td>0.183771</td>\n",
       "      <td>0.121022</td>\n",
       "      <td>1.518485</td>\n",
       "    </tr>\n",
       "    <tr>\n",
       "      <th>3</th>\n",
       "      <td>55.378606</td>\n",
       "      <td>education-num&gt;=13 AND hours-per-week&gt;=50</td>\n",
       "      <td>404.0</td>\n",
       "      <td>0.258098</td>\n",
       "      <td>0.121022</td>\n",
       "      <td>2.132649</td>\n",
       "    </tr>\n",
       "    <tr>\n",
       "      <th>4</th>\n",
       "      <td>52.623514</td>\n",
       "      <td>age&gt;=50</td>\n",
       "      <td>1071.0</td>\n",
       "      <td>0.170157</td>\n",
       "      <td>0.121022</td>\n",
       "      <td>1.405999</td>\n",
       "    </tr>\n",
       "  </tbody>\n",
       "</table>\n",
       "</div>"
      ],
      "text/plain": [
       "      quality                                  subgroup  size_sg   mean_sg  \\\n",
       "0  111.591603  hours-per-week>=50                        1020.0   0.230426   \n",
       "1  80.601812   education-num>=13                         1228.0   0.186659   \n",
       "2  64.254267   age: [41:50[                              1024.0   0.183771   \n",
       "3  55.378606   education-num>=13 AND hours-per-week>=50  404.0    0.258098   \n",
       "4  52.623514   age>=50                                   1071.0   0.170157   \n",
       "\n",
       "   mean_dataset  mean_lift  \n",
       "0  0.121022      1.903995   \n",
       "1  0.121022      1.542352   \n",
       "2  0.121022      1.518485   \n",
       "3  0.121022      2.132649   \n",
       "4  0.121022      1.405999   "
      ]
     },
     "execution_count": 20,
     "metadata": {},
     "output_type": "execute_result"
    }
   ],
   "source": [
    "target_name = 'sex_effect'\n",
    "df_origin_sd = subgroup_discovery(df_origin_effect, target_name, ssd.StandardQFNumeric(1))\n",
    "df_origin_sd[:5]"
   ]
  },
  {
   "cell_type": "markdown",
   "metadata": {},
   "source": [
    "**flip effect on `synthetic_model`**"
   ]
  },
  {
   "cell_type": "code",
   "execution_count": 21,
   "metadata": {
    "ExecuteTime": {
     "end_time": "2019-07-31T08:19:48.964673Z",
     "start_time": "2019-07-31T08:19:48.802652Z"
    },
    "scrolled": true
   },
   "outputs": [
    {
     "name": "stdout",
     "output_type": "stream",
     "text": [
      "sex effect from \"1\" to \"0\"\n"
     ]
    },
    {
     "data": {
      "text/html": [
       "<div>\n",
       "<style scoped>\n",
       "    .dataframe tbody tr th:only-of-type {\n",
       "        vertical-align: middle;\n",
       "    }\n",
       "\n",
       "    .dataframe tbody tr th {\n",
       "        vertical-align: top;\n",
       "    }\n",
       "\n",
       "    .dataframe thead th {\n",
       "        text-align: right;\n",
       "    }\n",
       "</style>\n",
       "<table border=\"1\" class=\"dataframe\">\n",
       "  <thead>\n",
       "    <tr style=\"text-align: right;\">\n",
       "      <th></th>\n",
       "      <th>age</th>\n",
       "      <th>education-num</th>\n",
       "      <th>sex</th>\n",
       "      <th>hours-per-week</th>\n",
       "      <th>income</th>\n",
       "      <th>sex_effect</th>\n",
       "    </tr>\n",
       "  </thead>\n",
       "  <tbody>\n",
       "    <tr>\n",
       "      <th>0</th>\n",
       "      <td>39</td>\n",
       "      <td>13</td>\n",
       "      <td>Male</td>\n",
       "      <td>40</td>\n",
       "      <td>&lt;=50K</td>\n",
       "      <td>0.993293</td>\n",
       "    </tr>\n",
       "    <tr>\n",
       "      <th>1</th>\n",
       "      <td>50</td>\n",
       "      <td>13</td>\n",
       "      <td>Male</td>\n",
       "      <td>13</td>\n",
       "      <td>&lt;=50K</td>\n",
       "      <td>0.993293</td>\n",
       "    </tr>\n",
       "    <tr>\n",
       "      <th>2</th>\n",
       "      <td>38</td>\n",
       "      <td>9</td>\n",
       "      <td>Male</td>\n",
       "      <td>40</td>\n",
       "      <td>&lt;=50K</td>\n",
       "      <td>0.174248</td>\n",
       "    </tr>\n",
       "    <tr>\n",
       "      <th>3</th>\n",
       "      <td>53</td>\n",
       "      <td>7</td>\n",
       "      <td>Male</td>\n",
       "      <td>40</td>\n",
       "      <td>&lt;=50K</td>\n",
       "      <td>0.064115</td>\n",
       "    </tr>\n",
       "    <tr>\n",
       "      <th>4</th>\n",
       "      <td>28</td>\n",
       "      <td>13</td>\n",
       "      <td>Female</td>\n",
       "      <td>40</td>\n",
       "      <td>&lt;=50K</td>\n",
       "      <td>0.993293</td>\n",
       "    </tr>\n",
       "  </tbody>\n",
       "</table>\n",
       "</div>"
      ],
      "text/plain": [
       "   age  education-num      sex  hours-per-week  income  sex_effect\n",
       "0  39   13              Male    40               <=50K  0.993293  \n",
       "1  50   13              Male    13               <=50K  0.993293  \n",
       "2  38   9               Male    40               <=50K  0.174248  \n",
       "3  53   7               Male    40               <=50K  0.064115  \n",
       "4  28   13              Female  40               <=50K  0.993293  "
      ]
     },
     "execution_count": 21,
     "metadata": {},
     "output_type": "execute_result"
    }
   ],
   "source": [
    "df_syn_effect = get_filp_effect(syn_flip)\n",
    "df_syn_effect.head()"
   ]
  },
  {
   "cell_type": "code",
   "execution_count": 22,
   "metadata": {
    "ExecuteTime": {
     "end_time": "2019-07-31T08:19:50.358890Z",
     "start_time": "2019-07-31T08:19:49.145803Z"
    },
    "scrolled": true
   },
   "outputs": [
    {
     "data": {
      "text/html": [
       "<div>\n",
       "<style scoped>\n",
       "    .dataframe tbody tr th:only-of-type {\n",
       "        vertical-align: middle;\n",
       "    }\n",
       "\n",
       "    .dataframe tbody tr th {\n",
       "        vertical-align: top;\n",
       "    }\n",
       "\n",
       "    .dataframe thead th {\n",
       "        text-align: right;\n",
       "    }\n",
       "</style>\n",
       "<table border=\"1\" class=\"dataframe\">\n",
       "  <thead>\n",
       "    <tr style=\"text-align: right;\">\n",
       "      <th></th>\n",
       "      <th>quality</th>\n",
       "      <th>subgroup</th>\n",
       "      <th>size_sg</th>\n",
       "      <th>mean_sg</th>\n",
       "      <th>mean_dataset</th>\n",
       "      <th>mean_lift</th>\n",
       "    </tr>\n",
       "  </thead>\n",
       "  <tbody>\n",
       "    <tr>\n",
       "      <th>0</th>\n",
       "      <td>832.717929</td>\n",
       "      <td>education-num&gt;=13</td>\n",
       "      <td>1228.0</td>\n",
       "      <td>0.993293</td>\n",
       "      <td>0.315184</td>\n",
       "      <td>3.151469</td>\n",
       "    </tr>\n",
       "    <tr>\n",
       "      <th>1</th>\n",
       "      <td>341.088859</td>\n",
       "      <td>education-num&gt;=13 AND hours-per-week: [40:41[</td>\n",
       "      <td>503.0</td>\n",
       "      <td>0.993293</td>\n",
       "      <td>0.315184</td>\n",
       "      <td>3.151469</td>\n",
       "    </tr>\n",
       "    <tr>\n",
       "      <th>2</th>\n",
       "      <td>273.956061</td>\n",
       "      <td>education-num&gt;=13 AND hours-per-week&gt;=50</td>\n",
       "      <td>404.0</td>\n",
       "      <td>0.993293</td>\n",
       "      <td>0.315184</td>\n",
       "      <td>3.151469</td>\n",
       "    </tr>\n",
       "    <tr>\n",
       "      <th>3</th>\n",
       "      <td>217.673009</td>\n",
       "      <td>education-num&gt;=13 AND age: [41:50[</td>\n",
       "      <td>321.0</td>\n",
       "      <td>0.993293</td>\n",
       "      <td>0.315184</td>\n",
       "      <td>3.151469</td>\n",
       "    </tr>\n",
       "    <tr>\n",
       "      <th>4</th>\n",
       "      <td>206.510112</td>\n",
       "      <td>hours-per-week&gt;=50</td>\n",
       "      <td>1020.0</td>\n",
       "      <td>0.517645</td>\n",
       "      <td>0.315184</td>\n",
       "      <td>1.642357</td>\n",
       "    </tr>\n",
       "  </tbody>\n",
       "</table>\n",
       "</div>"
      ],
      "text/plain": [
       "      quality                                       subgroup  size_sg  \\\n",
       "0  832.717929  education-num>=13                              1228.0    \n",
       "1  341.088859  education-num>=13 AND hours-per-week: [40:41[  503.0     \n",
       "2  273.956061  education-num>=13 AND hours-per-week>=50       404.0     \n",
       "3  217.673009  education-num>=13 AND age: [41:50[             321.0     \n",
       "4  206.510112  hours-per-week>=50                             1020.0    \n",
       "\n",
       "    mean_sg  mean_dataset  mean_lift  \n",
       "0  0.993293  0.315184      3.151469   \n",
       "1  0.993293  0.315184      3.151469   \n",
       "2  0.993293  0.315184      3.151469   \n",
       "3  0.993293  0.315184      3.151469   \n",
       "4  0.517645  0.315184      1.642357   "
      ]
     },
     "execution_count": 22,
     "metadata": {},
     "output_type": "execute_result"
    }
   ],
   "source": [
    "df_syn_sd = subgroup_discovery(df_syn_effect, target_name, ssd.StandardQFNumeric(1))\n",
    "df_syn_sd[:5]"
   ]
  },
  {
   "cell_type": "markdown",
   "metadata": {},
   "source": [
    "<font color='blue'>\n",
    "    \n",
    "subgroup discovery explanation on two models\n",
    "\n",
    "`origin_model`: in the subgroup `hours-per-week>=50`, it has the largest impact of `sex` while flipping from 'Male' to 'Female'. Generally to say, it has twice the prediction change than overall mean change. \n",
    "\n",
    "`synthetic_model`: in subgroup `education>=13`, it has the largest impact of `sex` while flipping from 'Male' to 'Female'. It has three times more change than the overall mean change. "
   ]
  },
  {
   "cell_type": "markdown",
   "metadata": {},
   "source": [
    "**calculate shapley values on \"sex\" feature based on `origin_model`**"
   ]
  },
  {
   "cell_type": "code",
   "execution_count": 23,
   "metadata": {
    "ExecuteTime": {
     "end_time": "2019-07-31T08:20:06.473095Z",
     "start_time": "2019-07-31T08:20:05.760527Z"
    }
   },
   "outputs": [
    {
     "data": {
      "text/html": [
       "<div>\n",
       "<style scoped>\n",
       "    .dataframe tbody tr th:only-of-type {\n",
       "        vertical-align: middle;\n",
       "    }\n",
       "\n",
       "    .dataframe tbody tr th {\n",
       "        vertical-align: top;\n",
       "    }\n",
       "\n",
       "    .dataframe thead th {\n",
       "        text-align: right;\n",
       "    }\n",
       "</style>\n",
       "<table border=\"1\" class=\"dataframe\">\n",
       "  <thead>\n",
       "    <tr style=\"text-align: right;\">\n",
       "      <th></th>\n",
       "      <th>age</th>\n",
       "      <th>education-num</th>\n",
       "      <th>sex</th>\n",
       "      <th>hours-per-week</th>\n",
       "      <th>income</th>\n",
       "      <th>sex_shap_values</th>\n",
       "    </tr>\n",
       "  </thead>\n",
       "  <tbody>\n",
       "    <tr>\n",
       "      <th>0</th>\n",
       "      <td>39</td>\n",
       "      <td>13</td>\n",
       "      <td>Male</td>\n",
       "      <td>40</td>\n",
       "      <td>&lt;=50K</td>\n",
       "      <td>0.218425</td>\n",
       "    </tr>\n",
       "    <tr>\n",
       "      <th>1</th>\n",
       "      <td>50</td>\n",
       "      <td>13</td>\n",
       "      <td>Male</td>\n",
       "      <td>13</td>\n",
       "      <td>&lt;=50K</td>\n",
       "      <td>0.052288</td>\n",
       "    </tr>\n",
       "    <tr>\n",
       "      <th>2</th>\n",
       "      <td>38</td>\n",
       "      <td>9</td>\n",
       "      <td>Male</td>\n",
       "      <td>40</td>\n",
       "      <td>&lt;=50K</td>\n",
       "      <td>0.268240</td>\n",
       "    </tr>\n",
       "    <tr>\n",
       "      <th>3</th>\n",
       "      <td>53</td>\n",
       "      <td>7</td>\n",
       "      <td>Male</td>\n",
       "      <td>40</td>\n",
       "      <td>&lt;=50K</td>\n",
       "      <td>0.204471</td>\n",
       "    </tr>\n",
       "    <tr>\n",
       "      <th>4</th>\n",
       "      <td>28</td>\n",
       "      <td>13</td>\n",
       "      <td>Female</td>\n",
       "      <td>40</td>\n",
       "      <td>&lt;=50K</td>\n",
       "      <td>-0.329139</td>\n",
       "    </tr>\n",
       "  </tbody>\n",
       "</table>\n",
       "</div>"
      ],
      "text/plain": [
       "   age  education-num      sex  hours-per-week  income  sex_shap_values\n",
       "0  39   13              Male    40               <=50K  0.218425       \n",
       "1  50   13              Male    13               <=50K  0.052288       \n",
       "2  38   9               Male    40               <=50K  0.268240       \n",
       "3  53   7               Male    40               <=50K  0.204471       \n",
       "4  28   13              Female  40               <=50K -0.329139       "
      ]
     },
     "execution_count": 23,
     "metadata": {},
     "output_type": "execute_result"
    }
   ],
   "source": [
    "df_origin_shap_effect = get_filp_shap_effect(origin_flip)\n",
    "df_origin_shap_effect.head()"
   ]
  },
  {
   "cell_type": "markdown",
   "metadata": {},
   "source": [
    "**subgroup discovery: use sex_shap_values as target**"
   ]
  },
  {
   "cell_type": "code",
   "execution_count": 24,
   "metadata": {
    "ExecuteTime": {
     "end_time": "2019-07-31T08:20:08.760745Z",
     "start_time": "2019-07-31T08:20:07.641304Z"
    }
   },
   "outputs": [
    {
     "data": {
      "text/html": [
       "<div>\n",
       "<style scoped>\n",
       "    .dataframe tbody tr th:only-of-type {\n",
       "        vertical-align: middle;\n",
       "    }\n",
       "\n",
       "    .dataframe tbody tr th {\n",
       "        vertical-align: top;\n",
       "    }\n",
       "\n",
       "    .dataframe thead th {\n",
       "        text-align: right;\n",
       "    }\n",
       "</style>\n",
       "<table border=\"1\" class=\"dataframe\">\n",
       "  <thead>\n",
       "    <tr style=\"text-align: right;\">\n",
       "      <th></th>\n",
       "      <th>quality</th>\n",
       "      <th>subgroup</th>\n",
       "      <th>size_sg</th>\n",
       "      <th>mean_sg</th>\n",
       "      <th>mean_dataset</th>\n",
       "      <th>mean_lift</th>\n",
       "    </tr>\n",
       "  </thead>\n",
       "  <tbody>\n",
       "    <tr>\n",
       "      <th>0</th>\n",
       "      <td>129.399510</td>\n",
       "      <td>hours-per-week&gt;=50</td>\n",
       "      <td>1020.0</td>\n",
       "      <td>0.137825</td>\n",
       "      <td>0.010962</td>\n",
       "      <td>12.572590</td>\n",
       "    </tr>\n",
       "    <tr>\n",
       "      <th>1</th>\n",
       "      <td>48.354063</td>\n",
       "      <td>hours-per-week&gt;=50 AND education-num: [9:10[</td>\n",
       "      <td>262.0</td>\n",
       "      <td>0.195520</td>\n",
       "      <td>0.010962</td>\n",
       "      <td>17.835646</td>\n",
       "    </tr>\n",
       "    <tr>\n",
       "      <th>2</th>\n",
       "      <td>48.317924</td>\n",
       "      <td>age: [33:41[ AND hours-per-week&gt;=50</td>\n",
       "      <td>293.0</td>\n",
       "      <td>0.175870</td>\n",
       "      <td>0.010962</td>\n",
       "      <td>16.043149</td>\n",
       "    </tr>\n",
       "    <tr>\n",
       "      <th>3</th>\n",
       "      <td>34.646336</td>\n",
       "      <td>education-num&gt;=13 AND hours-per-week&gt;=50</td>\n",
       "      <td>404.0</td>\n",
       "      <td>0.096721</td>\n",
       "      <td>0.010962</td>\n",
       "      <td>8.823013</td>\n",
       "    </tr>\n",
       "    <tr>\n",
       "      <th>4</th>\n",
       "      <td>34.442976</td>\n",
       "      <td>age&gt;=50 AND hours-per-week&gt;=50</td>\n",
       "      <td>206.0</td>\n",
       "      <td>0.178161</td>\n",
       "      <td>0.010962</td>\n",
       "      <td>16.252168</td>\n",
       "    </tr>\n",
       "  </tbody>\n",
       "</table>\n",
       "</div>"
      ],
      "text/plain": [
       "      quality                                      subgroup  size_sg  \\\n",
       "0  129.399510  hours-per-week>=50                            1020.0    \n",
       "1  48.354063   hours-per-week>=50 AND education-num: [9:10[  262.0     \n",
       "2  48.317924   age: [33:41[ AND hours-per-week>=50           293.0     \n",
       "3  34.646336   education-num>=13 AND hours-per-week>=50      404.0     \n",
       "4  34.442976   age>=50 AND hours-per-week>=50                206.0     \n",
       "\n",
       "    mean_sg  mean_dataset  mean_lift  \n",
       "0  0.137825  0.010962      12.572590  \n",
       "1  0.195520  0.010962      17.835646  \n",
       "2  0.175870  0.010962      16.043149  \n",
       "3  0.096721  0.010962      8.823013   \n",
       "4  0.178161  0.010962      16.252168  "
      ]
     },
     "execution_count": 24,
     "metadata": {},
     "output_type": "execute_result"
    }
   ],
   "source": [
    "shap_target_name = 'sex_shap_values'\n",
    "df_origin_shap_sd = subgroup_discovery(df_origin_shap_effect, shap_target_name, ssd.StandardQFNumeric(1))\n",
    "df_origin_shap_sd[:5]"
   ]
  },
  {
   "cell_type": "markdown",
   "metadata": {},
   "source": [
    "**calculate shapley values on \"sex\" feature based on `synthetic_model`**"
   ]
  },
  {
   "cell_type": "code",
   "execution_count": 25,
   "metadata": {
    "ExecuteTime": {
     "end_time": "2019-07-31T08:20:09.819529Z",
     "start_time": "2019-07-31T08:20:09.127709Z"
    }
   },
   "outputs": [
    {
     "data": {
      "text/html": [
       "<div>\n",
       "<style scoped>\n",
       "    .dataframe tbody tr th:only-of-type {\n",
       "        vertical-align: middle;\n",
       "    }\n",
       "\n",
       "    .dataframe tbody tr th {\n",
       "        vertical-align: top;\n",
       "    }\n",
       "\n",
       "    .dataframe thead th {\n",
       "        text-align: right;\n",
       "    }\n",
       "</style>\n",
       "<table border=\"1\" class=\"dataframe\">\n",
       "  <thead>\n",
       "    <tr style=\"text-align: right;\">\n",
       "      <th></th>\n",
       "      <th>age</th>\n",
       "      <th>education-num</th>\n",
       "      <th>sex</th>\n",
       "      <th>hours-per-week</th>\n",
       "      <th>income</th>\n",
       "      <th>sex_shap_values</th>\n",
       "    </tr>\n",
       "  </thead>\n",
       "  <tbody>\n",
       "    <tr>\n",
       "      <th>0</th>\n",
       "      <td>39</td>\n",
       "      <td>13</td>\n",
       "      <td>Male</td>\n",
       "      <td>40</td>\n",
       "      <td>&lt;=50K</td>\n",
       "      <td>2.003093</td>\n",
       "    </tr>\n",
       "    <tr>\n",
       "      <th>1</th>\n",
       "      <td>50</td>\n",
       "      <td>13</td>\n",
       "      <td>Male</td>\n",
       "      <td>13</td>\n",
       "      <td>&lt;=50K</td>\n",
       "      <td>1.953297</td>\n",
       "    </tr>\n",
       "    <tr>\n",
       "      <th>2</th>\n",
       "      <td>38</td>\n",
       "      <td>9</td>\n",
       "      <td>Male</td>\n",
       "      <td>40</td>\n",
       "      <td>&lt;=50K</td>\n",
       "      <td>0.610758</td>\n",
       "    </tr>\n",
       "    <tr>\n",
       "      <th>3</th>\n",
       "      <td>53</td>\n",
       "      <td>7</td>\n",
       "      <td>Male</td>\n",
       "      <td>40</td>\n",
       "      <td>&lt;=50K</td>\n",
       "      <td>0.539034</td>\n",
       "    </tr>\n",
       "    <tr>\n",
       "      <th>4</th>\n",
       "      <td>28</td>\n",
       "      <td>13</td>\n",
       "      <td>Female</td>\n",
       "      <td>40</td>\n",
       "      <td>&lt;=50K</td>\n",
       "      <td>-5.387226</td>\n",
       "    </tr>\n",
       "  </tbody>\n",
       "</table>\n",
       "</div>"
      ],
      "text/plain": [
       "   age  education-num      sex  hours-per-week  income  sex_shap_values\n",
       "0  39   13              Male    40               <=50K  2.003093       \n",
       "1  50   13              Male    13               <=50K  1.953297       \n",
       "2  38   9               Male    40               <=50K  0.610758       \n",
       "3  53   7               Male    40               <=50K  0.539034       \n",
       "4  28   13              Female  40               <=50K -5.387226       "
      ]
     },
     "execution_count": 25,
     "metadata": {},
     "output_type": "execute_result"
    }
   ],
   "source": [
    "df_syn_shap_effect = get_filp_shap_effect(syn_flip)\n",
    "df_syn_shap_effect.head()"
   ]
  },
  {
   "cell_type": "code",
   "execution_count": 26,
   "metadata": {
    "ExecuteTime": {
     "end_time": "2019-07-31T08:20:12.495686Z",
     "start_time": "2019-07-31T08:20:11.403523Z"
    }
   },
   "outputs": [
    {
     "data": {
      "text/html": [
       "<div>\n",
       "<style scoped>\n",
       "    .dataframe tbody tr th:only-of-type {\n",
       "        vertical-align: middle;\n",
       "    }\n",
       "\n",
       "    .dataframe tbody tr th {\n",
       "        vertical-align: top;\n",
       "    }\n",
       "\n",
       "    .dataframe thead th {\n",
       "        text-align: right;\n",
       "    }\n",
       "</style>\n",
       "<table border=\"1\" class=\"dataframe\">\n",
       "  <thead>\n",
       "    <tr style=\"text-align: right;\">\n",
       "      <th></th>\n",
       "      <th>quality</th>\n",
       "      <th>subgroup</th>\n",
       "      <th>size_sg</th>\n",
       "      <th>mean_sg</th>\n",
       "      <th>mean_dataset</th>\n",
       "      <th>mean_lift</th>\n",
       "    </tr>\n",
       "  </thead>\n",
       "  <tbody>\n",
       "    <tr>\n",
       "      <th>0</th>\n",
       "      <td>513.698971</td>\n",
       "      <td>hours-per-week&gt;=50</td>\n",
       "      <td>1020.0</td>\n",
       "      <td>0.428103</td>\n",
       "      <td>-0.075523</td>\n",
       "      <td>-5.668499</td>\n",
       "    </tr>\n",
       "    <tr>\n",
       "      <th>1</th>\n",
       "      <td>267.371430</td>\n",
       "      <td>education-num&gt;=13 AND hours-per-week&gt;=50</td>\n",
       "      <td>404.0</td>\n",
       "      <td>0.586287</td>\n",
       "      <td>-0.075523</td>\n",
       "      <td>-7.763008</td>\n",
       "    </tr>\n",
       "    <tr>\n",
       "      <th>2</th>\n",
       "      <td>213.888323</td>\n",
       "      <td>age: [33:41[ AND hours-per-week&gt;=50</td>\n",
       "      <td>293.0</td>\n",
       "      <td>0.654471</td>\n",
       "      <td>-0.075523</td>\n",
       "      <td>-8.665828</td>\n",
       "    </tr>\n",
       "    <tr>\n",
       "      <th>3</th>\n",
       "      <td>144.660559</td>\n",
       "      <td>age&gt;=50</td>\n",
       "      <td>1071.0</td>\n",
       "      <td>0.059547</td>\n",
       "      <td>-0.075523</td>\n",
       "      <td>-0.788464</td>\n",
       "    </tr>\n",
       "    <tr>\n",
       "      <th>4</th>\n",
       "      <td>142.920236</td>\n",
       "      <td>age: [33:41[ AND education-num&gt;=13 AND hours-per-week&gt;=50</td>\n",
       "      <td>115.0</td>\n",
       "      <td>1.167261</td>\n",
       "      <td>-0.075523</td>\n",
       "      <td>-15.455667</td>\n",
       "    </tr>\n",
       "  </tbody>\n",
       "</table>\n",
       "</div>"
      ],
      "text/plain": [
       "      quality                                                   subgroup  \\\n",
       "0  513.698971  hours-per-week>=50                                          \n",
       "1  267.371430  education-num>=13 AND hours-per-week>=50                    \n",
       "2  213.888323  age: [33:41[ AND hours-per-week>=50                         \n",
       "3  144.660559  age>=50                                                     \n",
       "4  142.920236  age: [33:41[ AND education-num>=13 AND hours-per-week>=50   \n",
       "\n",
       "   size_sg   mean_sg  mean_dataset  mean_lift  \n",
       "0  1020.0   0.428103 -0.075523     -5.668499   \n",
       "1  404.0    0.586287 -0.075523     -7.763008   \n",
       "2  293.0    0.654471 -0.075523     -8.665828   \n",
       "3  1071.0   0.059547 -0.075523     -0.788464   \n",
       "4  115.0    1.167261 -0.075523     -15.455667  "
      ]
     },
     "execution_count": 26,
     "metadata": {},
     "output_type": "execute_result"
    }
   ],
   "source": [
    "shap_target_name = 'sex_shap_values'\n",
    "df_syn_shap_sd = subgroup_discovery(df_syn_shap_effect, shap_target_name, ssd.StandardQFNumeric(1))\n",
    "df_syn_shap_sd[:5]"
   ]
  },
  {
   "cell_type": "markdown",
   "metadata": {},
   "source": [
    "<font color='blue'>\n",
    "    \n",
    "First, we calculate the shapley values for `sex` feature relied on both models.\n",
    "\n",
    "**shapley values is larger, which means in this single instance, `sex` contributes more to the final prediction, indicating the probability towards predicting `income>50K` is higher**"
   ]
  },
  {
   "cell_type": "code",
   "execution_count": null,
   "metadata": {},
   "outputs": [],
   "source": []
  },
  {
   "cell_type": "code",
   "execution_count": null,
   "metadata": {},
   "outputs": [],
   "source": []
  }
 ],
 "metadata": {
  "hide_input": false,
  "kernelspec": {
   "display_name": ".venv",
   "language": "python",
   "name": ".venv"
  },
  "language_info": {
   "codemirror_mode": {
    "name": "ipython",
    "version": 3
   },
   "file_extension": ".py",
   "mimetype": "text/x-python",
   "name": "python",
   "nbconvert_exporter": "python",
   "pygments_lexer": "ipython3",
   "version": "3.7.3"
  },
  "toc": {
   "base_numbering": 1,
   "nav_menu": {},
   "number_sections": true,
   "sideBar": true,
   "skip_h1_title": false,
   "title_cell": "Table of Contents",
   "title_sidebar": "Contents",
   "toc_cell": false,
   "toc_position": {},
   "toc_section_display": true,
   "toc_window_display": false
  }
 },
 "nbformat": 4,
 "nbformat_minor": 2
}
