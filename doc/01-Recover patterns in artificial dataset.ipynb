{
 "cells": [
  {
   "cell_type": "markdown",
   "metadata": {},
   "source": [
    "# Aim to recover patterns in the artifical dataset (target is the effect of gender)"
   ]
  },
  {
   "cell_type": "code",
   "execution_count": 1,
   "metadata": {
    "ExecuteTime": {
     "end_time": "2019-09-19T08:58:11.632046Z",
     "start_time": "2019-09-19T08:58:06.252009Z"
    }
   },
   "outputs": [
    {
     "name": "stderr",
     "output_type": "stream",
     "text": [
      "Using TensorFlow backend.\n"
     ]
    }
   ],
   "source": [
    "import sys\n",
    "sys.path.append('..')\n",
    "import shapSD as ssd\n",
    "import pandas as pd\n",
    "import numpy as np\n",
    "import copy\n",
    "from sklearn.linear_model import LogisticRegression\n",
    "#Display all content in dataframe\n",
    "pd.set_option('display.max_colwidth', -1)"
   ]
  },
  {
   "cell_type": "code",
   "execution_count": 2,
   "metadata": {
    "ExecuteTime": {
     "end_time": "2019-09-19T08:58:11.826568Z",
     "start_time": "2019-09-19T08:58:11.633985Z"
    }
   },
   "outputs": [
    {
     "data": {
      "text/html": [
       "<div>\n",
       "<style scoped>\n",
       "    .dataframe tbody tr th:only-of-type {\n",
       "        vertical-align: middle;\n",
       "    }\n",
       "\n",
       "    .dataframe tbody tr th {\n",
       "        vertical-align: top;\n",
       "    }\n",
       "\n",
       "    .dataframe thead th {\n",
       "        text-align: right;\n",
       "    }\n",
       "</style>\n",
       "<table border=\"1\" class=\"dataframe\">\n",
       "  <thead>\n",
       "    <tr style=\"text-align: right;\">\n",
       "      <th></th>\n",
       "      <th>age</th>\n",
       "      <th>education-num</th>\n",
       "      <th>sex</th>\n",
       "      <th>hours-per-week</th>\n",
       "      <th>income</th>\n",
       "    </tr>\n",
       "  </thead>\n",
       "  <tbody>\n",
       "    <tr>\n",
       "      <th>0</th>\n",
       "      <td>39</td>\n",
       "      <td>13</td>\n",
       "      <td>1</td>\n",
       "      <td>40</td>\n",
       "      <td>0</td>\n",
       "    </tr>\n",
       "    <tr>\n",
       "      <th>1</th>\n",
       "      <td>50</td>\n",
       "      <td>13</td>\n",
       "      <td>1</td>\n",
       "      <td>13</td>\n",
       "      <td>0</td>\n",
       "    </tr>\n",
       "    <tr>\n",
       "      <th>2</th>\n",
       "      <td>38</td>\n",
       "      <td>9</td>\n",
       "      <td>1</td>\n",
       "      <td>40</td>\n",
       "      <td>0</td>\n",
       "    </tr>\n",
       "    <tr>\n",
       "      <th>3</th>\n",
       "      <td>53</td>\n",
       "      <td>7</td>\n",
       "      <td>1</td>\n",
       "      <td>40</td>\n",
       "      <td>0</td>\n",
       "    </tr>\n",
       "    <tr>\n",
       "      <th>4</th>\n",
       "      <td>28</td>\n",
       "      <td>13</td>\n",
       "      <td>0</td>\n",
       "      <td>40</td>\n",
       "      <td>0</td>\n",
       "    </tr>\n",
       "  </tbody>\n",
       "</table>\n",
       "</div>"
      ],
      "text/plain": [
       "   age  education-num  sex  hours-per-week  income\n",
       "0  39   13             1    40              0     \n",
       "1  50   13             1    13              0     \n",
       "2  38   9              1    40              0     \n",
       "3  53   7              1    40              0     \n",
       "4  28   13             0    40              0     "
      ]
     },
     "execution_count": 2,
     "metadata": {},
     "output_type": "execute_result"
    }
   ],
   "source": [
    "file_path = '../data/adult.csv'\n",
    "original_adult = pd.read_csv(file_path, index_col=0)\n",
    "original_adult = original_adult[:5000]\n",
    "original_adult = original_adult[['age', 'education-num', 'sex', 'hours-per-week', 'income']]\n",
    "origin_adult = ssd.DataEncoder(original_adult).label_encoding()\n",
    "origin_adult.head()"
   ]
  },
  {
   "cell_type": "code",
   "execution_count": 3,
   "metadata": {
    "ExecuteTime": {
     "end_time": "2019-09-19T08:58:11.875867Z",
     "start_time": "2019-09-19T08:58:11.828867Z"
    }
   },
   "outputs": [
    {
     "data": {
      "text/plain": [
       "array([[0.02384174, 0.16325068, 0.49430803, 0.02033189]])"
      ]
     },
     "execution_count": 3,
     "metadata": {},
     "output_type": "execute_result"
    }
   ],
   "source": [
    "x_train, y_train = origin_adult.drop('income', axis=1), origin_adult[['income']]\n",
    "clf = LogisticRegression(random_state=0, solver='lbfgs',\n",
    "                         multi_class='multinomial').fit(x_train, y_train)\n",
    "clf.coef_"
   ]
  },
  {
   "cell_type": "markdown",
   "metadata": {},
   "source": [
    "## Construct patterns by modifying the coefficients of the selected feature"
   ]
  },
  {
   "cell_type": "code",
   "execution_count": 4,
   "metadata": {
    "ExecuteTime": {
     "end_time": "2019-09-19T08:58:11.884867Z",
     "start_time": "2019-09-19T08:58:11.878073Z"
    }
   },
   "outputs": [],
   "source": [
    "# insepct the influence of \"Sex\"\n",
    "def get_effect(clf, constrain_feature, critical_v):\n",
    "    clf_a = copy.deepcopy(clf)\n",
    "    clf_b = copy.deepcopy(clf)\n",
    "    # modify the wight for \"Sex\"\n",
    "    clf_a.coef_[0][2] = 0.8\n",
    "    clf_b.coef_[0][2] = 0.1\n",
    "\n",
    "    adult_a = origin_adult.loc[origin_adult[constrain_feature]<critical_v]\n",
    "    adult_b = origin_adult.loc[origin_adult[constrain_feature]>=critical_v]\n",
    "\n",
    "    adult_a = adult_a.reset_index(drop=True)\n",
    "    adult_b = adult_b.reset_index(drop=True)\n",
    "    # construct BinaryFlip class\n",
    "    flip_attr = 'sex'\n",
    "    flip_a = ssd.BinaryFlip(adult_a.drop('income', axis=1),  clf_a, flip_attr)\n",
    "    flip_b = ssd.BinaryFlip(adult_b.drop('income', axis=1),  clf_b, flip_attr)\n",
    "    \n",
    "    effect_a = flip_a.calc_abs_flip_effect()\n",
    "    effect_b = flip_b.calc_abs_flip_effect()\n",
    "    \n",
    "    df_effect = pd.concat([effect_a, effect_b])\n",
    "    df_effect = df_effect.reset_index(drop=True)\n",
    "    return df_effect"
   ]
  },
  {
   "cell_type": "markdown",
   "metadata": {},
   "source": [
    "## Subgroup discovery to discovery patterns"
   ]
  },
  {
   "cell_type": "code",
   "execution_count": 5,
   "metadata": {
    "ExecuteTime": {
     "end_time": "2019-09-19T08:58:11.891663Z",
     "start_time": "2019-09-19T08:58:11.886422Z"
    }
   },
   "outputs": [],
   "source": [
    "def subgroup_discovery(df_effect, target_name, label_name, selected_attr, measure):\n",
    "    target = ssd.NumericTarget(target_name)\n",
    "    search_space = ssd.create_selectors(df_effect, nbins=10, ignore=[target_name, label_name, selected_attr])\n",
    "#     print(search_space)\n",
    "    task = ssd.SubgroupDiscoveryTask(df_effect, target, search_space, qf=measure, result_set_size=10)\n",
    "    result = ssd.BeamSearch().execute(task)\n",
    "#     result = ssd.overlap_filter(result, df_effect, similarity_level=0.85)\n",
    "    df_result = ssd.as_df(df_effect, result, statistics_to_show=ssd.all_statistics_numeric)\n",
    "    return df_result[['quality', 'subgroup', 'size_sg', 'mean_sg', 'mean_dataset', 'mean_lift']]"
   ]
  },
  {
   "cell_type": "markdown",
   "metadata": {},
   "source": [
    "### Original pattern (without modification on coefficient)"
   ]
  },
  {
   "cell_type": "code",
   "execution_count": 6,
   "metadata": {
    "ExecuteTime": {
     "end_time": "2019-09-19T08:58:11.898409Z",
     "start_time": "2019-09-19T08:58:11.893746Z"
    }
   },
   "outputs": [
    {
     "data": {
      "text/plain": [
       "array([[0.02384174, 0.16325068, 0.49430803, 0.02033189]])"
      ]
     },
     "execution_count": 6,
     "metadata": {},
     "output_type": "execute_result"
    }
   ],
   "source": [
    "clf.coef_"
   ]
  },
  {
   "cell_type": "code",
   "execution_count": 7,
   "metadata": {
    "ExecuteTime": {
     "end_time": "2019-09-19T08:58:11.918718Z",
     "start_time": "2019-09-19T08:58:11.900199Z"
    }
   },
   "outputs": [
    {
     "data": {
      "text/html": [
       "<div>\n",
       "<style scoped>\n",
       "    .dataframe tbody tr th:only-of-type {\n",
       "        vertical-align: middle;\n",
       "    }\n",
       "\n",
       "    .dataframe tbody tr th {\n",
       "        vertical-align: top;\n",
       "    }\n",
       "\n",
       "    .dataframe thead th {\n",
       "        text-align: right;\n",
       "    }\n",
       "</style>\n",
       "<table border=\"1\" class=\"dataframe\">\n",
       "  <thead>\n",
       "    <tr style=\"text-align: right;\">\n",
       "      <th></th>\n",
       "      <th>age</th>\n",
       "      <th>education-num</th>\n",
       "      <th>sex</th>\n",
       "      <th>hours-per-week</th>\n",
       "      <th>sex_abs_effect</th>\n",
       "    </tr>\n",
       "  </thead>\n",
       "  <tbody>\n",
       "    <tr>\n",
       "      <th>0</th>\n",
       "      <td>39</td>\n",
       "      <td>13</td>\n",
       "      <td>0</td>\n",
       "      <td>40</td>\n",
       "      <td>0.213443</td>\n",
       "    </tr>\n",
       "    <tr>\n",
       "      <th>1</th>\n",
       "      <td>50</td>\n",
       "      <td>13</td>\n",
       "      <td>0</td>\n",
       "      <td>13</td>\n",
       "      <td>0.165025</td>\n",
       "    </tr>\n",
       "    <tr>\n",
       "      <th>2</th>\n",
       "      <td>38</td>\n",
       "      <td>9</td>\n",
       "      <td>0</td>\n",
       "      <td>40</td>\n",
       "      <td>0.098140</td>\n",
       "    </tr>\n",
       "    <tr>\n",
       "      <th>3</th>\n",
       "      <td>53</td>\n",
       "      <td>7</td>\n",
       "      <td>0</td>\n",
       "      <td>40</td>\n",
       "      <td>0.102866</td>\n",
       "    </tr>\n",
       "    <tr>\n",
       "      <th>4</th>\n",
       "      <td>28</td>\n",
       "      <td>13</td>\n",
       "      <td>1</td>\n",
       "      <td>40</td>\n",
       "      <td>0.169480</td>\n",
       "    </tr>\n",
       "  </tbody>\n",
       "</table>\n",
       "</div>"
      ],
      "text/plain": [
       "   age  education-num  sex  hours-per-week  sex_abs_effect\n",
       "0  39   13             0    40              0.213443      \n",
       "1  50   13             0    13              0.165025      \n",
       "2  38   9              0    40              0.098140      \n",
       "3  53   7              0    40              0.102866      \n",
       "4  28   13             1    40              0.169480      "
      ]
     },
     "execution_count": 7,
     "metadata": {},
     "output_type": "execute_result"
    }
   ],
   "source": [
    "flip_attr = 'sex'\n",
    "sex_flip = ssd.BinaryFlip(origin_adult.drop('income', axis=1), clf, flip_attr)\n",
    "sex_effect = sex_flip.calc_abs_flip_effect()    \n",
    "df_effect = sex_effect.reset_index(drop=True)\n",
    "df_effect.head()"
   ]
  },
  {
   "cell_type": "code",
   "execution_count": 8,
   "metadata": {
    "ExecuteTime": {
     "end_time": "2019-09-19T08:58:15.865929Z",
     "start_time": "2019-09-19T08:58:11.921331Z"
    }
   },
   "outputs": [
    {
     "data": {
      "text/html": [
       "<div>\n",
       "<style scoped>\n",
       "    .dataframe tbody tr th:only-of-type {\n",
       "        vertical-align: middle;\n",
       "    }\n",
       "\n",
       "    .dataframe tbody tr th {\n",
       "        vertical-align: top;\n",
       "    }\n",
       "\n",
       "    .dataframe thead th {\n",
       "        text-align: right;\n",
       "    }\n",
       "</style>\n",
       "<table border=\"1\" class=\"dataframe\">\n",
       "  <thead>\n",
       "    <tr style=\"text-align: right;\">\n",
       "      <th></th>\n",
       "      <th>quality</th>\n",
       "      <th>subgroup</th>\n",
       "      <th>size_sg</th>\n",
       "      <th>mean_sg</th>\n",
       "      <th>mean_dataset</th>\n",
       "      <th>mean_lift</th>\n",
       "    </tr>\n",
       "  </thead>\n",
       "  <tbody>\n",
       "    <tr>\n",
       "      <th>0</th>\n",
       "      <td>0.018278</td>\n",
       "      <td>education-num&gt;=13</td>\n",
       "      <td>1228.0</td>\n",
       "      <td>0.207028</td>\n",
       "      <td>0.132607</td>\n",
       "      <td>1.561214</td>\n",
       "    </tr>\n",
       "    <tr>\n",
       "      <th>1</th>\n",
       "      <td>0.006204</td>\n",
       "      <td>hours-per-week&gt;=55</td>\n",
       "      <td>525.0</td>\n",
       "      <td>0.191691</td>\n",
       "      <td>0.132607</td>\n",
       "      <td>1.445556</td>\n",
       "    </tr>\n",
       "    <tr>\n",
       "      <th>2</th>\n",
       "      <td>0.004701</td>\n",
       "      <td>age: [50:58[</td>\n",
       "      <td>568.0</td>\n",
       "      <td>0.173991</td>\n",
       "      <td>0.132607</td>\n",
       "      <td>1.312080</td>\n",
       "    </tr>\n",
       "    <tr>\n",
       "      <th>3</th>\n",
       "      <td>0.004520</td>\n",
       "      <td>hours-per-week: [50:55[</td>\n",
       "      <td>495.0</td>\n",
       "      <td>0.178259</td>\n",
       "      <td>0.132607</td>\n",
       "      <td>1.344264</td>\n",
       "    </tr>\n",
       "    <tr>\n",
       "      <th>4</th>\n",
       "      <td>0.004039</td>\n",
       "      <td>age&gt;=58</td>\n",
       "      <td>503.0</td>\n",
       "      <td>0.172752</td>\n",
       "      <td>0.132607</td>\n",
       "      <td>1.302732</td>\n",
       "    </tr>\n",
       "  </tbody>\n",
       "</table>\n",
       "</div>"
      ],
      "text/plain": [
       "    quality                 subgroup  size_sg   mean_sg  mean_dataset  \\\n",
       "0  0.018278  education-num>=13        1228.0   0.207028  0.132607       \n",
       "1  0.006204  hours-per-week>=55       525.0    0.191691  0.132607       \n",
       "2  0.004701  age: [50:58[             568.0    0.173991  0.132607       \n",
       "3  0.004520  hours-per-week: [50:55[  495.0    0.178259  0.132607       \n",
       "4  0.004039  age>=58                  503.0    0.172752  0.132607       \n",
       "\n",
       "   mean_lift  \n",
       "0  1.561214   \n",
       "1  1.445556   \n",
       "2  1.312080   \n",
       "3  1.344264   \n",
       "4  1.302732   "
      ]
     },
     "execution_count": 8,
     "metadata": {},
     "output_type": "execute_result"
    }
   ],
   "source": [
    "target_name = 'sex_abs_effect'\n",
    "df_sd = subgroup_discovery(df_effect, target_name, label_name='income', \n",
    "                               selected_attr='sex', measure=ssd.GAStandardQFNumeric(1))\n",
    "df_sd[:5]"
   ]
  },
  {
   "cell_type": "code",
   "execution_count": 9,
   "metadata": {
    "ExecuteTime": {
     "end_time": "2019-09-19T08:58:15.870610Z",
     "start_time": "2019-09-19T08:58:15.868324Z"
    }
   },
   "outputs": [],
   "source": [
    "# target_name = df_effect.columns.tolist()[-1]\n",
    "# draw_decision_tree('sex', target_name, df_effect)"
   ]
  },
  {
   "cell_type": "markdown",
   "metadata": {},
   "source": [
    "### Assumed pattern: when \"age\" < 25, the effect of gender is particular large "
   ]
  },
  {
   "cell_type": "code",
   "execution_count": 10,
   "metadata": {
    "ExecuteTime": {
     "end_time": "2019-09-19T08:58:15.899548Z",
     "start_time": "2019-09-19T08:58:15.874078Z"
    }
   },
   "outputs": [
    {
     "data": {
      "text/html": [
       "<div>\n",
       "<style scoped>\n",
       "    .dataframe tbody tr th:only-of-type {\n",
       "        vertical-align: middle;\n",
       "    }\n",
       "\n",
       "    .dataframe tbody tr th {\n",
       "        vertical-align: top;\n",
       "    }\n",
       "\n",
       "    .dataframe thead th {\n",
       "        text-align: right;\n",
       "    }\n",
       "</style>\n",
       "<table border=\"1\" class=\"dataframe\">\n",
       "  <thead>\n",
       "    <tr style=\"text-align: right;\">\n",
       "      <th></th>\n",
       "      <th>age</th>\n",
       "      <th>education-num</th>\n",
       "      <th>sex</th>\n",
       "      <th>hours-per-week</th>\n",
       "      <th>sex_abs_effect</th>\n",
       "    </tr>\n",
       "  </thead>\n",
       "  <tbody>\n",
       "    <tr>\n",
       "      <th>0</th>\n",
       "      <td>23</td>\n",
       "      <td>13</td>\n",
       "      <td>1</td>\n",
       "      <td>30</td>\n",
       "      <td>0.226294</td>\n",
       "    </tr>\n",
       "    <tr>\n",
       "      <th>1</th>\n",
       "      <td>19</td>\n",
       "      <td>9</td>\n",
       "      <td>0</td>\n",
       "      <td>40</td>\n",
       "      <td>0.101292</td>\n",
       "    </tr>\n",
       "    <tr>\n",
       "      <th>2</th>\n",
       "      <td>23</td>\n",
       "      <td>12</td>\n",
       "      <td>0</td>\n",
       "      <td>52</td>\n",
       "      <td>0.303753</td>\n",
       "    </tr>\n",
       "    <tr>\n",
       "      <th>3</th>\n",
       "      <td>20</td>\n",
       "      <td>10</td>\n",
       "      <td>0</td>\n",
       "      <td>44</td>\n",
       "      <td>0.155285</td>\n",
       "    </tr>\n",
       "    <tr>\n",
       "      <th>4</th>\n",
       "      <td>22</td>\n",
       "      <td>10</td>\n",
       "      <td>0</td>\n",
       "      <td>15</td>\n",
       "      <td>0.062812</td>\n",
       "    </tr>\n",
       "  </tbody>\n",
       "</table>\n",
       "</div>"
      ],
      "text/plain": [
       "   age  education-num  sex  hours-per-week  sex_abs_effect\n",
       "0  23   13             1    30              0.226294      \n",
       "1  19   9              0    40              0.101292      \n",
       "2  23   12             0    52              0.303753      \n",
       "3  20   10             0    44              0.155285      \n",
       "4  22   10             0    15              0.062812      "
      ]
     },
     "execution_count": 10,
     "metadata": {},
     "output_type": "execute_result"
    }
   ],
   "source": [
    "# condition: when age < 25, the effect of \"sex\" ia large\n",
    "df_age_effect = get_effect(clf, 'age', 25)\n",
    "df_age_effect.head()"
   ]
  },
  {
   "cell_type": "code",
   "execution_count": 11,
   "metadata": {
    "ExecuteTime": {
     "end_time": "2019-09-19T08:58:19.879858Z",
     "start_time": "2019-09-19T08:58:15.901696Z"
    }
   },
   "outputs": [
    {
     "data": {
      "text/html": [
       "<div>\n",
       "<style scoped>\n",
       "    .dataframe tbody tr th:only-of-type {\n",
       "        vertical-align: middle;\n",
       "    }\n",
       "\n",
       "    .dataframe tbody tr th {\n",
       "        vertical-align: top;\n",
       "    }\n",
       "\n",
       "    .dataframe thead th {\n",
       "        text-align: right;\n",
       "    }\n",
       "</style>\n",
       "<table border=\"1\" class=\"dataframe\">\n",
       "  <thead>\n",
       "    <tr style=\"text-align: right;\">\n",
       "      <th></th>\n",
       "      <th>quality</th>\n",
       "      <th>subgroup</th>\n",
       "      <th>size_sg</th>\n",
       "      <th>mean_sg</th>\n",
       "      <th>mean_dataset</th>\n",
       "      <th>mean_lift</th>\n",
       "    </tr>\n",
       "  </thead>\n",
       "  <tbody>\n",
       "    <tr>\n",
       "      <th>0</th>\n",
       "      <td>0.007806</td>\n",
       "      <td>age: [22:26[</td>\n",
       "      <td>510.0</td>\n",
       "      <td>0.117210</td>\n",
       "      <td>0.040685</td>\n",
       "      <td>2.880919</td>\n",
       "    </tr>\n",
       "    <tr>\n",
       "      <th>1</th>\n",
       "      <td>0.004212</td>\n",
       "      <td>age&lt;22</td>\n",
       "      <td>473.0</td>\n",
       "      <td>0.085206</td>\n",
       "      <td>0.040685</td>\n",
       "      <td>2.094302</td>\n",
       "    </tr>\n",
       "    <tr>\n",
       "      <th>2</th>\n",
       "      <td>0.003660</td>\n",
       "      <td>education-num&gt;=13</td>\n",
       "      <td>1228.0</td>\n",
       "      <td>0.055588</td>\n",
       "      <td>0.040685</td>\n",
       "      <td>1.366299</td>\n",
       "    </tr>\n",
       "    <tr>\n",
       "      <th>3</th>\n",
       "      <td>0.002350</td>\n",
       "      <td>education-num: [10:11[</td>\n",
       "      <td>1125.0</td>\n",
       "      <td>0.051128</td>\n",
       "      <td>0.040685</td>\n",
       "      <td>1.256689</td>\n",
       "    </tr>\n",
       "    <tr>\n",
       "      <th>4</th>\n",
       "      <td>0.001795</td>\n",
       "      <td>age: [22:26[ AND education-num&gt;=13</td>\n",
       "      <td>110.0</td>\n",
       "      <td>0.198800</td>\n",
       "      <td>0.040685</td>\n",
       "      <td>4.886351</td>\n",
       "    </tr>\n",
       "  </tbody>\n",
       "</table>\n",
       "</div>"
      ],
      "text/plain": [
       "    quality                            subgroup  size_sg   mean_sg  \\\n",
       "0  0.007806  age: [22:26[                        510.0    0.117210   \n",
       "1  0.004212  age<22                              473.0    0.085206   \n",
       "2  0.003660  education-num>=13                   1228.0   0.055588   \n",
       "3  0.002350  education-num: [10:11[              1125.0   0.051128   \n",
       "4  0.001795  age: [22:26[ AND education-num>=13  110.0    0.198800   \n",
       "\n",
       "   mean_dataset  mean_lift  \n",
       "0  0.040685      2.880919   \n",
       "1  0.040685      2.094302   \n",
       "2  0.040685      1.366299   \n",
       "3  0.040685      1.256689   \n",
       "4  0.040685      4.886351   "
      ]
     },
     "execution_count": 11,
     "metadata": {},
     "output_type": "execute_result"
    }
   ],
   "source": [
    "target_name = 'sex_abs_effect'\n",
    "df_age_sd = subgroup_discovery(df_age_effect, target_name, label_name='income', \n",
    "                               selected_attr='sex', measure=ssd.GAStandardQFNumeric(1))\n",
    "df_age_sd[:5]"
   ]
  },
  {
   "cell_type": "markdown",
   "metadata": {},
   "source": [
    "### Assumed pattern: when \"hours-per-week\" < 20, the effect of gender is particular large"
   ]
  },
  {
   "cell_type": "code",
   "execution_count": 12,
   "metadata": {
    "ExecuteTime": {
     "end_time": "2019-09-19T08:58:19.906511Z",
     "start_time": "2019-09-19T08:58:19.881934Z"
    }
   },
   "outputs": [
    {
     "data": {
      "text/html": [
       "<div>\n",
       "<style scoped>\n",
       "    .dataframe tbody tr th:only-of-type {\n",
       "        vertical-align: middle;\n",
       "    }\n",
       "\n",
       "    .dataframe tbody tr th {\n",
       "        vertical-align: top;\n",
       "    }\n",
       "\n",
       "    .dataframe thead th {\n",
       "        text-align: right;\n",
       "    }\n",
       "</style>\n",
       "<table border=\"1\" class=\"dataframe\">\n",
       "  <thead>\n",
       "    <tr style=\"text-align: right;\">\n",
       "      <th></th>\n",
       "      <th>age</th>\n",
       "      <th>education-num</th>\n",
       "      <th>sex</th>\n",
       "      <th>hours-per-week</th>\n",
       "      <th>sex_abs_effect</th>\n",
       "    </tr>\n",
       "  </thead>\n",
       "  <tbody>\n",
       "    <tr>\n",
       "      <th>0</th>\n",
       "      <td>50</td>\n",
       "      <td>13</td>\n",
       "      <td>0</td>\n",
       "      <td>13</td>\n",
       "      <td>0.307321</td>\n",
       "    </tr>\n",
       "    <tr>\n",
       "      <th>1</th>\n",
       "      <td>49</td>\n",
       "      <td>5</td>\n",
       "      <td>1</td>\n",
       "      <td>16</td>\n",
       "      <td>0.047538</td>\n",
       "    </tr>\n",
       "    <tr>\n",
       "      <th>2</th>\n",
       "      <td>22</td>\n",
       "      <td>10</td>\n",
       "      <td>0</td>\n",
       "      <td>15</td>\n",
       "      <td>0.062812</td>\n",
       "    </tr>\n",
       "    <tr>\n",
       "      <th>3</th>\n",
       "      <td>67</td>\n",
       "      <td>6</td>\n",
       "      <td>0</td>\n",
       "      <td>2</td>\n",
       "      <td>0.082779</td>\n",
       "    </tr>\n",
       "    <tr>\n",
       "      <th>4</th>\n",
       "      <td>71</td>\n",
       "      <td>10</td>\n",
       "      <td>0</td>\n",
       "      <td>2</td>\n",
       "      <td>0.249957</td>\n",
       "    </tr>\n",
       "  </tbody>\n",
       "</table>\n",
       "</div>"
      ],
      "text/plain": [
       "   age  education-num  sex  hours-per-week  sex_abs_effect\n",
       "0  50   13             0    13              0.307321      \n",
       "1  49   5              1    16              0.047538      \n",
       "2  22   10             0    15              0.062812      \n",
       "3  67   6              0    2               0.082779      \n",
       "4  71   10             0    2               0.249957      "
      ]
     },
     "execution_count": 12,
     "metadata": {},
     "output_type": "execute_result"
    }
   ],
   "source": [
    "df_hour_effect = get_effect(clf, 'hours-per-week', 20)\n",
    "df_hour_effect.head()"
   ]
  },
  {
   "cell_type": "code",
   "execution_count": 13,
   "metadata": {
    "ExecuteTime": {
     "end_time": "2019-09-19T08:58:24.021962Z",
     "start_time": "2019-09-19T08:58:19.908531Z"
    }
   },
   "outputs": [
    {
     "data": {
      "text/html": [
       "<div>\n",
       "<style scoped>\n",
       "    .dataframe tbody tr th:only-of-type {\n",
       "        vertical-align: middle;\n",
       "    }\n",
       "\n",
       "    .dataframe tbody tr th {\n",
       "        vertical-align: top;\n",
       "    }\n",
       "\n",
       "    .dataframe thead th {\n",
       "        text-align: right;\n",
       "    }\n",
       "</style>\n",
       "<table border=\"1\" class=\"dataframe\">\n",
       "  <thead>\n",
       "    <tr style=\"text-align: right;\">\n",
       "      <th></th>\n",
       "      <th>quality</th>\n",
       "      <th>subgroup</th>\n",
       "      <th>size_sg</th>\n",
       "      <th>mean_sg</th>\n",
       "      <th>mean_dataset</th>\n",
       "      <th>mean_lift</th>\n",
       "    </tr>\n",
       "  </thead>\n",
       "  <tbody>\n",
       "    <tr>\n",
       "      <th>0</th>\n",
       "      <td>0.004661</td>\n",
       "      <td>education-num&gt;=13</td>\n",
       "      <td>1228.0</td>\n",
       "      <td>0.047636</td>\n",
       "      <td>0.028657</td>\n",
       "      <td>1.662261</td>\n",
       "    </tr>\n",
       "    <tr>\n",
       "      <th>1</th>\n",
       "      <td>0.004499</td>\n",
       "      <td>hours-per-week&lt;25</td>\n",
       "      <td>494.0</td>\n",
       "      <td>0.074192</td>\n",
       "      <td>0.028657</td>\n",
       "      <td>2.588939</td>\n",
       "    </tr>\n",
       "    <tr>\n",
       "      <th>2</th>\n",
       "      <td>0.004263</td>\n",
       "      <td>age&gt;=58</td>\n",
       "      <td>503.0</td>\n",
       "      <td>0.071033</td>\n",
       "      <td>0.028657</td>\n",
       "      <td>2.478687</td>\n",
       "    </tr>\n",
       "    <tr>\n",
       "      <th>3</th>\n",
       "      <td>0.002649</td>\n",
       "      <td>hours-per-week&lt;25 AND age&gt;=58</td>\n",
       "      <td>133.0</td>\n",
       "      <td>0.173772</td>\n",
       "      <td>0.028657</td>\n",
       "      <td>6.063792</td>\n",
       "    </tr>\n",
       "    <tr>\n",
       "      <th>4</th>\n",
       "      <td>0.001410</td>\n",
       "      <td>education-num&gt;=13 AND hours-per-week&lt;25</td>\n",
       "      <td>70.0</td>\n",
       "      <td>0.174920</td>\n",
       "      <td>0.028657</td>\n",
       "      <td>6.103863</td>\n",
       "    </tr>\n",
       "  </tbody>\n",
       "</table>\n",
       "</div>"
      ],
      "text/plain": [
       "    quality                                 subgroup  size_sg   mean_sg  \\\n",
       "0  0.004661  education-num>=13                        1228.0   0.047636   \n",
       "1  0.004499  hours-per-week<25                        494.0    0.074192   \n",
       "2  0.004263  age>=58                                  503.0    0.071033   \n",
       "3  0.002649  hours-per-week<25 AND age>=58            133.0    0.173772   \n",
       "4  0.001410  education-num>=13 AND hours-per-week<25  70.0     0.174920   \n",
       "\n",
       "   mean_dataset  mean_lift  \n",
       "0  0.028657      1.662261   \n",
       "1  0.028657      2.588939   \n",
       "2  0.028657      2.478687   \n",
       "3  0.028657      6.063792   \n",
       "4  0.028657      6.103863   "
      ]
     },
     "execution_count": 13,
     "metadata": {},
     "output_type": "execute_result"
    }
   ],
   "source": [
    "df_hour_sd = subgroup_discovery(df_hour_effect, target_name, label_name='income', \n",
    "                                selected_attr='sex', measure=ssd.GAStandardQFNumeric(1))\n",
    "df_hour_sd[:5]"
   ]
  },
  {
   "cell_type": "code",
   "execution_count": 14,
   "metadata": {
    "ExecuteTime": {
     "end_time": "2019-09-19T08:58:24.029332Z",
     "start_time": "2019-09-19T08:58:24.023829Z"
    }
   },
   "outputs": [],
   "source": [
    "def draw_decision_tree(attr, target_name, credit_shap):\n",
    "    dtree_exp = ssd.DecisionTreeExplain(credit_shap.drop([attr, target_name], axis=1), credit_shap.iloc[:, -1])\n",
    "    estimator = dtree_exp.dtree_reg_model(max_depth=3)\n",
    "    if len(attr.split(' ')) > 1:\n",
    "        file_name = attr.split(' ')[0] + '_' + attr.split(' ')[1]\n",
    "    else:\n",
    "        file_name = attr\n",
    "    return dtree_exp.visualize_dtree(estimator, '{}_effect'.format(file_name))"
   ]
  },
  {
   "cell_type": "code",
   "execution_count": null,
   "metadata": {},
   "outputs": [],
   "source": []
  }
 ],
 "metadata": {
  "hide_input": false,
  "kernelspec": {
   "display_name": ".venv",
   "language": "python",
   "name": ".venv"
  },
  "language_info": {
   "codemirror_mode": {
    "name": "ipython",
    "version": 3
   },
   "file_extension": ".py",
   "mimetype": "text/x-python",
   "name": "python",
   "nbconvert_exporter": "python",
   "pygments_lexer": "ipython3",
   "version": "3.7.3"
  },
  "toc": {
   "base_numbering": 1,
   "nav_menu": {},
   "number_sections": true,
   "sideBar": true,
   "skip_h1_title": false,
   "title_cell": "Table of Contents",
   "title_sidebar": "Contents",
   "toc_cell": false,
   "toc_position": {},
   "toc_section_display": true,
   "toc_window_display": false
  }
 },
 "nbformat": 4,
 "nbformat_minor": 2
}
